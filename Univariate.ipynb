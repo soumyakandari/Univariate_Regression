{
  "nbformat": 4,
  "nbformat_minor": 0,
  "metadata": {
    "colab": {
      "name": "Univariate.ipynb",
      "provenance": [],
      "mount_file_id": "1JHkJl5HT6Q_1OWJ68gQdba9eSjG4xpOA",
      "authorship_tag": "ABX9TyPrOBHMZH7Q3e6Jg+I91xtc",
      "include_colab_link": true
    },
    "kernelspec": {
      "name": "python3",
      "display_name": "Python 3"
    },
    "language_info": {
      "name": "python"
    }
  },
  "cells": [
    {
      "cell_type": "markdown",
      "metadata": {
        "id": "view-in-github",
        "colab_type": "text"
      },
      "source": [
        "<a href=\"https://colab.research.google.com/github/soumyakandari/Univariate_Regression/blob/main/Univariate.ipynb\" target=\"_parent\"><img src=\"https://colab.research.google.com/assets/colab-badge.svg\" alt=\"Open In Colab\"/></a>"
      ]
    },
    {
      "cell_type": "markdown",
      "metadata": {
        "id": "bQGZbTWh9Ajj"
      },
      "source": [
        "**`Univariate Linear Regression`**\n",
        "\n",
        "[Link to download the dataset :](https://archive.ics.uci.edu/ml/datasets/Student+Performance) \n",
        "\n",
        "**Date Created** : 12th June'21\n",
        "\n",
        "**Author** : Soumya Kandari\n",
        "\n",
        "**Reach out to me:** [LinkedIn](https://www.linkedin.com/in/soumya-kandari/)\n",
        "\n"
      ]
    },
    {
      "cell_type": "markdown",
      "metadata": {
        "id": "dHcme4uB-EF9"
      },
      "source": [
        "**Setup**"
      ]
    },
    {
      "cell_type": "code",
      "metadata": {
        "colab": {
          "base_uri": "https://localhost:8080/"
        },
        "id": "xZmUvFJK85tL",
        "outputId": "2ba89875-8d08-4525-c1a5-5d8ccdfc1a47"
      },
      "source": [
        "from google.colab import drive\n",
        "drive.mount('/content/drive')"
      ],
      "execution_count": 4,
      "outputs": [
        {
          "output_type": "stream",
          "text": [
            "Drive already mounted at /content/drive; to attempt to forcibly remount, call drive.mount(\"/content/drive\", force_remount=True).\n"
          ],
          "name": "stdout"
        }
      ]
    },
    {
      "cell_type": "code",
      "metadata": {
        "colab": {
          "base_uri": "https://localhost:8080/"
        },
        "id": "BgxsZext-t4-",
        "outputId": "e24ec272-049a-496f-bd69-23b2eb79af03"
      },
      "source": [
        "cd '/content/drive/MyDrive/Colab Notebooks/02_EDA/student'"
      ],
      "execution_count": 5,
      "outputs": [
        {
          "output_type": "stream",
          "text": [
            "/content/drive/MyDrive/Colab Notebooks/02_EDA/student\n"
          ],
          "name": "stdout"
        }
      ]
    },
    {
      "cell_type": "code",
      "metadata": {
        "colab": {
          "base_uri": "https://localhost:8080/"
        },
        "id": "xOQRJlYP_BiV",
        "outputId": "cf2d47d3-0c33-4ee1-8637-b78a68154e35"
      },
      "source": [
        "ls"
      ],
      "execution_count": 6,
      "outputs": [
        {
          "output_type": "stream",
          "text": [
            "cleanedMathData.csv  student-merge.R  student.txt\n",
            "student-mat.csv      student-por.csv  univariate_MathData_2.csv\n"
          ],
          "name": "stdout"
        }
      ]
    },
    {
      "cell_type": "code",
      "metadata": {
        "id": "RjWDcinh_EH7"
      },
      "source": [
        "import os"
      ],
      "execution_count": 7,
      "outputs": []
    },
    {
      "cell_type": "code",
      "metadata": {
        "id": "bXCgW_d-_G1X"
      },
      "source": [
        "import pandas as pd #working with csv or excel files\n",
        "import numpy as np #working with numbers/ arrays/ tensors\n",
        "import tensorflow as tf #framework\n",
        "from tensorflow import keras #API / library \n",
        "import os #using os commands between the python language"
      ],
      "execution_count": 8,
      "outputs": []
    },
    {
      "cell_type": "code",
      "metadata": {
        "id": "KFWLJIeg_OhS"
      },
      "source": [
        "mathData = pd.read_csv('student-mat.csv', sep=';') #load the csv file as dataframe"
      ],
      "execution_count": 9,
      "outputs": []
    },
    {
      "cell_type": "code",
      "metadata": {
        "colab": {
          "base_uri": "https://localhost:8080/",
          "height": 285
        },
        "id": "f_XrAXIy_RQR",
        "outputId": "ef0cdc09-07b2-499f-ab29-e7e79915dcc3"
      },
      "source": [
        "mathData.head(7) #print the first ten rows of the dataframe"
      ],
      "execution_count": 10,
      "outputs": [
        {
          "output_type": "execute_result",
          "data": {
            "text/html": [
              "<div>\n",
              "<style scoped>\n",
              "    .dataframe tbody tr th:only-of-type {\n",
              "        vertical-align: middle;\n",
              "    }\n",
              "\n",
              "    .dataframe tbody tr th {\n",
              "        vertical-align: top;\n",
              "    }\n",
              "\n",
              "    .dataframe thead th {\n",
              "        text-align: right;\n",
              "    }\n",
              "</style>\n",
              "<table border=\"1\" class=\"dataframe\">\n",
              "  <thead>\n",
              "    <tr style=\"text-align: right;\">\n",
              "      <th></th>\n",
              "      <th>school</th>\n",
              "      <th>sex</th>\n",
              "      <th>age</th>\n",
              "      <th>address</th>\n",
              "      <th>famsize</th>\n",
              "      <th>Pstatus</th>\n",
              "      <th>Medu</th>\n",
              "      <th>Fedu</th>\n",
              "      <th>Mjob</th>\n",
              "      <th>Fjob</th>\n",
              "      <th>reason</th>\n",
              "      <th>guardian</th>\n",
              "      <th>traveltime</th>\n",
              "      <th>studytime</th>\n",
              "      <th>failures</th>\n",
              "      <th>schoolsup</th>\n",
              "      <th>famsup</th>\n",
              "      <th>paid</th>\n",
              "      <th>activities</th>\n",
              "      <th>nursery</th>\n",
              "      <th>higher</th>\n",
              "      <th>internet</th>\n",
              "      <th>romantic</th>\n",
              "      <th>famrel</th>\n",
              "      <th>freetime</th>\n",
              "      <th>goout</th>\n",
              "      <th>Dalc</th>\n",
              "      <th>Walc</th>\n",
              "      <th>health</th>\n",
              "      <th>absences</th>\n",
              "      <th>G1</th>\n",
              "      <th>G2</th>\n",
              "      <th>G3</th>\n",
              "    </tr>\n",
              "  </thead>\n",
              "  <tbody>\n",
              "    <tr>\n",
              "      <th>0</th>\n",
              "      <td>GP</td>\n",
              "      <td>F</td>\n",
              "      <td>18</td>\n",
              "      <td>U</td>\n",
              "      <td>GT3</td>\n",
              "      <td>A</td>\n",
              "      <td>4</td>\n",
              "      <td>4</td>\n",
              "      <td>at_home</td>\n",
              "      <td>teacher</td>\n",
              "      <td>course</td>\n",
              "      <td>mother</td>\n",
              "      <td>2</td>\n",
              "      <td>2</td>\n",
              "      <td>0</td>\n",
              "      <td>yes</td>\n",
              "      <td>no</td>\n",
              "      <td>no</td>\n",
              "      <td>no</td>\n",
              "      <td>yes</td>\n",
              "      <td>yes</td>\n",
              "      <td>no</td>\n",
              "      <td>no</td>\n",
              "      <td>4</td>\n",
              "      <td>3</td>\n",
              "      <td>4</td>\n",
              "      <td>1</td>\n",
              "      <td>1</td>\n",
              "      <td>3</td>\n",
              "      <td>6</td>\n",
              "      <td>5</td>\n",
              "      <td>6</td>\n",
              "      <td>6</td>\n",
              "    </tr>\n",
              "    <tr>\n",
              "      <th>1</th>\n",
              "      <td>GP</td>\n",
              "      <td>F</td>\n",
              "      <td>17</td>\n",
              "      <td>U</td>\n",
              "      <td>GT3</td>\n",
              "      <td>T</td>\n",
              "      <td>1</td>\n",
              "      <td>1</td>\n",
              "      <td>at_home</td>\n",
              "      <td>other</td>\n",
              "      <td>course</td>\n",
              "      <td>father</td>\n",
              "      <td>1</td>\n",
              "      <td>2</td>\n",
              "      <td>0</td>\n",
              "      <td>no</td>\n",
              "      <td>yes</td>\n",
              "      <td>no</td>\n",
              "      <td>no</td>\n",
              "      <td>no</td>\n",
              "      <td>yes</td>\n",
              "      <td>yes</td>\n",
              "      <td>no</td>\n",
              "      <td>5</td>\n",
              "      <td>3</td>\n",
              "      <td>3</td>\n",
              "      <td>1</td>\n",
              "      <td>1</td>\n",
              "      <td>3</td>\n",
              "      <td>4</td>\n",
              "      <td>5</td>\n",
              "      <td>5</td>\n",
              "      <td>6</td>\n",
              "    </tr>\n",
              "    <tr>\n",
              "      <th>2</th>\n",
              "      <td>GP</td>\n",
              "      <td>F</td>\n",
              "      <td>15</td>\n",
              "      <td>U</td>\n",
              "      <td>LE3</td>\n",
              "      <td>T</td>\n",
              "      <td>1</td>\n",
              "      <td>1</td>\n",
              "      <td>at_home</td>\n",
              "      <td>other</td>\n",
              "      <td>other</td>\n",
              "      <td>mother</td>\n",
              "      <td>1</td>\n",
              "      <td>2</td>\n",
              "      <td>3</td>\n",
              "      <td>yes</td>\n",
              "      <td>no</td>\n",
              "      <td>yes</td>\n",
              "      <td>no</td>\n",
              "      <td>yes</td>\n",
              "      <td>yes</td>\n",
              "      <td>yes</td>\n",
              "      <td>no</td>\n",
              "      <td>4</td>\n",
              "      <td>3</td>\n",
              "      <td>2</td>\n",
              "      <td>2</td>\n",
              "      <td>3</td>\n",
              "      <td>3</td>\n",
              "      <td>10</td>\n",
              "      <td>7</td>\n",
              "      <td>8</td>\n",
              "      <td>10</td>\n",
              "    </tr>\n",
              "    <tr>\n",
              "      <th>3</th>\n",
              "      <td>GP</td>\n",
              "      <td>F</td>\n",
              "      <td>15</td>\n",
              "      <td>U</td>\n",
              "      <td>GT3</td>\n",
              "      <td>T</td>\n",
              "      <td>4</td>\n",
              "      <td>2</td>\n",
              "      <td>health</td>\n",
              "      <td>services</td>\n",
              "      <td>home</td>\n",
              "      <td>mother</td>\n",
              "      <td>1</td>\n",
              "      <td>3</td>\n",
              "      <td>0</td>\n",
              "      <td>no</td>\n",
              "      <td>yes</td>\n",
              "      <td>yes</td>\n",
              "      <td>yes</td>\n",
              "      <td>yes</td>\n",
              "      <td>yes</td>\n",
              "      <td>yes</td>\n",
              "      <td>yes</td>\n",
              "      <td>3</td>\n",
              "      <td>2</td>\n",
              "      <td>2</td>\n",
              "      <td>1</td>\n",
              "      <td>1</td>\n",
              "      <td>5</td>\n",
              "      <td>2</td>\n",
              "      <td>15</td>\n",
              "      <td>14</td>\n",
              "      <td>15</td>\n",
              "    </tr>\n",
              "    <tr>\n",
              "      <th>4</th>\n",
              "      <td>GP</td>\n",
              "      <td>F</td>\n",
              "      <td>16</td>\n",
              "      <td>U</td>\n",
              "      <td>GT3</td>\n",
              "      <td>T</td>\n",
              "      <td>3</td>\n",
              "      <td>3</td>\n",
              "      <td>other</td>\n",
              "      <td>other</td>\n",
              "      <td>home</td>\n",
              "      <td>father</td>\n",
              "      <td>1</td>\n",
              "      <td>2</td>\n",
              "      <td>0</td>\n",
              "      <td>no</td>\n",
              "      <td>yes</td>\n",
              "      <td>yes</td>\n",
              "      <td>no</td>\n",
              "      <td>yes</td>\n",
              "      <td>yes</td>\n",
              "      <td>no</td>\n",
              "      <td>no</td>\n",
              "      <td>4</td>\n",
              "      <td>3</td>\n",
              "      <td>2</td>\n",
              "      <td>1</td>\n",
              "      <td>2</td>\n",
              "      <td>5</td>\n",
              "      <td>4</td>\n",
              "      <td>6</td>\n",
              "      <td>10</td>\n",
              "      <td>10</td>\n",
              "    </tr>\n",
              "    <tr>\n",
              "      <th>5</th>\n",
              "      <td>GP</td>\n",
              "      <td>M</td>\n",
              "      <td>16</td>\n",
              "      <td>U</td>\n",
              "      <td>LE3</td>\n",
              "      <td>T</td>\n",
              "      <td>4</td>\n",
              "      <td>3</td>\n",
              "      <td>services</td>\n",
              "      <td>other</td>\n",
              "      <td>reputation</td>\n",
              "      <td>mother</td>\n",
              "      <td>1</td>\n",
              "      <td>2</td>\n",
              "      <td>0</td>\n",
              "      <td>no</td>\n",
              "      <td>yes</td>\n",
              "      <td>yes</td>\n",
              "      <td>yes</td>\n",
              "      <td>yes</td>\n",
              "      <td>yes</td>\n",
              "      <td>yes</td>\n",
              "      <td>no</td>\n",
              "      <td>5</td>\n",
              "      <td>4</td>\n",
              "      <td>2</td>\n",
              "      <td>1</td>\n",
              "      <td>2</td>\n",
              "      <td>5</td>\n",
              "      <td>10</td>\n",
              "      <td>15</td>\n",
              "      <td>15</td>\n",
              "      <td>15</td>\n",
              "    </tr>\n",
              "    <tr>\n",
              "      <th>6</th>\n",
              "      <td>GP</td>\n",
              "      <td>M</td>\n",
              "      <td>16</td>\n",
              "      <td>U</td>\n",
              "      <td>LE3</td>\n",
              "      <td>T</td>\n",
              "      <td>2</td>\n",
              "      <td>2</td>\n",
              "      <td>other</td>\n",
              "      <td>other</td>\n",
              "      <td>home</td>\n",
              "      <td>mother</td>\n",
              "      <td>1</td>\n",
              "      <td>2</td>\n",
              "      <td>0</td>\n",
              "      <td>no</td>\n",
              "      <td>no</td>\n",
              "      <td>no</td>\n",
              "      <td>no</td>\n",
              "      <td>yes</td>\n",
              "      <td>yes</td>\n",
              "      <td>yes</td>\n",
              "      <td>no</td>\n",
              "      <td>4</td>\n",
              "      <td>4</td>\n",
              "      <td>4</td>\n",
              "      <td>1</td>\n",
              "      <td>1</td>\n",
              "      <td>3</td>\n",
              "      <td>0</td>\n",
              "      <td>12</td>\n",
              "      <td>12</td>\n",
              "      <td>11</td>\n",
              "    </tr>\n",
              "  </tbody>\n",
              "</table>\n",
              "</div>"
            ],
            "text/plain": [
              "  school sex  age address famsize Pstatus  ...  Walc  health absences  G1  G2  G3\n",
              "0     GP   F   18       U     GT3       A  ...     1       3        6   5   6   6\n",
              "1     GP   F   17       U     GT3       T  ...     1       3        4   5   5   6\n",
              "2     GP   F   15       U     LE3       T  ...     3       3       10   7   8  10\n",
              "3     GP   F   15       U     GT3       T  ...     1       5        2  15  14  15\n",
              "4     GP   F   16       U     GT3       T  ...     2       5        4   6  10  10\n",
              "5     GP   M   16       U     LE3       T  ...     2       5       10  15  15  15\n",
              "6     GP   M   16       U     LE3       T  ...     1       3        0  12  12  11\n",
              "\n",
              "[7 rows x 33 columns]"
            ]
          },
          "metadata": {
            "tags": []
          },
          "execution_count": 10
        }
      ]
    },
    {
      "cell_type": "markdown",
      "metadata": {
        "id": "DgDA1rdq_U-I"
      },
      "source": [
        "We are just going to consider the columns `G1` and `G3` for univariate linear regression\n",
        "\n",
        "$G3_i = G1_i  \\cdot \\theta_1 + \\theta_0$"
      ]
    },
    {
      "cell_type": "code",
      "metadata": {
        "colab": {
          "base_uri": "https://localhost:8080/",
          "height": 203
        },
        "id": "gl3-CZeI_XY0",
        "outputId": "ae8c1127-f11d-417b-e604-4286f169c5ff"
      },
      "source": [
        "uniMathData = mathData[['G1', 'G3']]\n",
        "uniMathData.head(5)"
      ],
      "execution_count": 11,
      "outputs": [
        {
          "output_type": "execute_result",
          "data": {
            "text/html": [
              "<div>\n",
              "<style scoped>\n",
              "    .dataframe tbody tr th:only-of-type {\n",
              "        vertical-align: middle;\n",
              "    }\n",
              "\n",
              "    .dataframe tbody tr th {\n",
              "        vertical-align: top;\n",
              "    }\n",
              "\n",
              "    .dataframe thead th {\n",
              "        text-align: right;\n",
              "    }\n",
              "</style>\n",
              "<table border=\"1\" class=\"dataframe\">\n",
              "  <thead>\n",
              "    <tr style=\"text-align: right;\">\n",
              "      <th></th>\n",
              "      <th>G1</th>\n",
              "      <th>G3</th>\n",
              "    </tr>\n",
              "  </thead>\n",
              "  <tbody>\n",
              "    <tr>\n",
              "      <th>0</th>\n",
              "      <td>5</td>\n",
              "      <td>6</td>\n",
              "    </tr>\n",
              "    <tr>\n",
              "      <th>1</th>\n",
              "      <td>5</td>\n",
              "      <td>6</td>\n",
              "    </tr>\n",
              "    <tr>\n",
              "      <th>2</th>\n",
              "      <td>7</td>\n",
              "      <td>10</td>\n",
              "    </tr>\n",
              "    <tr>\n",
              "      <th>3</th>\n",
              "      <td>15</td>\n",
              "      <td>15</td>\n",
              "    </tr>\n",
              "    <tr>\n",
              "      <th>4</th>\n",
              "      <td>6</td>\n",
              "      <td>10</td>\n",
              "    </tr>\n",
              "  </tbody>\n",
              "</table>\n",
              "</div>"
            ],
            "text/plain": [
              "   G1  G3\n",
              "0   5   6\n",
              "1   5   6\n",
              "2   7  10\n",
              "3  15  15\n",
              "4   6  10"
            ]
          },
          "metadata": {
            "tags": []
          },
          "execution_count": 11
        }
      ]
    },
    {
      "cell_type": "code",
      "metadata": {
        "id": "Q744mkYPAzOx"
      },
      "source": [
        "uniMathData.to_csv('univariate_MathData_2.csv')"
      ],
      "execution_count": 12,
      "outputs": []
    },
    {
      "cell_type": "code",
      "metadata": {
        "colab": {
          "base_uri": "https://localhost:8080/"
        },
        "id": "d-KNlLsOA1Sv",
        "outputId": "c3a17aef-ba03-46f9-c69b-745e4dc823dc"
      },
      "source": [
        "ls"
      ],
      "execution_count": 13,
      "outputs": [
        {
          "output_type": "stream",
          "text": [
            "cleanedMathData.csv  student-merge.R  student.txt\n",
            "student-mat.csv      student-por.csv  univariate_MathData_2.csv\n"
          ],
          "name": "stdout"
        }
      ]
    },
    {
      "cell_type": "markdown",
      "metadata": {
        "id": "ACMzybGqA-5J"
      },
      "source": [
        "# **Data Visualization**"
      ]
    },
    {
      "cell_type": "code",
      "metadata": {
        "colab": {
          "base_uri": "https://localhost:8080/",
          "height": 157
        },
        "id": "2SiG3WIiBDsg",
        "outputId": "1cd80439-eb30-4b28-88af-9d8f9e0b10d8"
      },
      "source": [
        "import seaborn as sns\n",
        "sns.palplot(sns.color_palette('PuOr')) #Purple to Orange colors\n",
        "pal = sns.color_palette('PuOr', 6) #print 6 color shades from Purple to Orange\n",
        "pal.as_hex() #set hex code values for colors\n",
        "\n",
        "import matplotlib.pyplot as plt\n",
        "plt.style.use(['seaborn'])\n",
        "sns_colors = ['#c6690c', '#664697'] #orange Purple hex codes\n",
        "sns.set_palette(sns_colors) #set the palette as sns_colors \n",
        "sns.palplot(sns.color_palette(sns_colors)) #plot the color codes"
      ],
      "execution_count": 14,
      "outputs": [
        {
          "output_type": "display_data",
          "data": {
            "image/png": "[encoded data removed]",
            "text/plain": [
              "<Figure size 432x72 with 1 Axes>"
            ]
          },
          "metadata": {
            "tags": [],
            "needs_background": "light"
          }
        },
        {
          "output_type": "display_data",
          "data": {
            "image/png": "[encoded data removed]",
            "text/plain": [
              "<Figure size 144x72 with 1 Axes>"
            ]
          },
          "metadata": {
            "tags": []
          }
        }
      ]
    },
    {
      "cell_type": "code",
      "metadata": {
        "colab": {
          "base_uri": "https://localhost:8080/"
        },
        "id": "DNoIj3aZaqoT",
        "outputId": "1acfcb0f-61b3-4fda-a767-983a32bbf185"
      },
      "source": [
        "uniMathData.columns #columns in the dataframe"
      ],
      "execution_count": 15,
      "outputs": [
        {
          "output_type": "execute_result",
          "data": {
            "text/plain": [
              "Index(['G1', 'G3'], dtype='object')"
            ]
          },
          "metadata": {
            "tags": []
          },
          "execution_count": 15
        }
      ]
    },
    {
      "cell_type": "code",
      "metadata": {
        "colab": {
          "base_uri": "https://localhost:8080/",
          "height": 391
        },
        "id": "FLO5ZEvMbdg-",
        "outputId": "eee9d2ef-aad3-42e0-80eb-14933f75cb66"
      },
      "source": [
        "#pairplot for all the values\n",
        "\n",
        "sns.pairplot(uniMathData,\n",
        "             x_vars = ['G1', 'G3'],\n",
        "             y_vars =  ['G1', 'G3'],\n",
        "       diag_kind='kde'\n",
        "             )"
      ],
      "execution_count": 16,
      "outputs": [
        {
          "output_type": "execute_result",
          "data": {
            "text/plain": [
              "<seaborn.axisgrid.PairGrid at 0x7f1bde225810>"
            ]
          },
          "metadata": {
            "tags": []
          },
          "execution_count": 16
        },
        {
          "output_type": "display_data",
          "data": {
            "image/png": "[encoded data removed]",
            "text/plain": [
              "<Figure size 360x360 with 6 Axes>"
            ]
          },
          "metadata": {
            "tags": []
          }
        }
      ]
    },
    {
      "cell_type": "markdown",
      "metadata": {
        "id": "O7E5tlz_bgKa"
      },
      "source": [
        "**Data Splits**"
      ]
    },
    {
      "cell_type": "code",
      "metadata": {
        "colab": {
          "base_uri": "https://localhost:8080/"
        },
        "id": "zy9kxgNjbkl4",
        "outputId": "28351e64-a7bf-41b6-b801-5dfe343a50bc"
      },
      "source": [
        "#80-20 train-test percent split\n",
        "\n",
        "trainDataset = uniMathData.sample(frac=0.8, random_state=0) \n",
        "testDataset = uniMathData.drop(trainDataset.index)\n",
        "\n",
        "print(trainDataset.head())\n",
        "print(testDataset.head())"
      ],
      "execution_count": 17,
      "outputs": [
        {
          "output_type": "stream",
          "text": [
            "     G1  G3\n",
            "329  14  14\n",
            "318  11  10\n",
            "317   9   9\n",
            "65   16  15\n",
            "59   15  16\n",
            "    G1  G3\n",
            "9   14  15\n",
            "25   6   8\n",
            "28  11  11\n",
            "31  17  17\n",
            "32  17  16\n"
          ],
          "name": "stdout"
        }
      ]
    },
    {
      "cell_type": "code",
      "metadata": {
        "colab": {
          "base_uri": "https://localhost:8080/"
        },
        "id": "JJDVsJXFbrQW",
        "outputId": "0a142791-6b08-4906-deba-8e942ec85295"
      },
      "source": [
        "print(trainDataset.shape)\n",
        "print(testDataset.shape)"
      ],
      "execution_count": 18,
      "outputs": [
        {
          "output_type": "stream",
          "text": [
            "(316, 2)\n",
            "(79, 2)\n"
          ],
          "name": "stdout"
        }
      ]
    },
    {
      "cell_type": "code",
      "metadata": {
        "colab": {
          "base_uri": "https://localhost:8080/"
        },
        "id": "oM21m8jQbt8K",
        "outputId": "fcc89d11-5fe4-4048-f744-1643e87ac5e4"
      },
      "source": [
        "#copy the trainDataset dataframe for getting the features\n",
        "\n",
        "trainFeatures = trainDataset.copy()\n",
        "testFeatures = testDataset.copy()\n",
        "\n",
        "print(trainFeatures.head())\n",
        "print(testFeatures.head())"
      ],
      "execution_count": 19,
      "outputs": [
        {
          "output_type": "stream",
          "text": [
            "     G1  G3\n",
            "329  14  14\n",
            "318  11  10\n",
            "317   9   9\n",
            "65   16  15\n",
            "59   15  16\n",
            "    G1  G3\n",
            "9   14  15\n",
            "25   6   8\n",
            "28  11  11\n",
            "31  17  17\n",
            "32  17  16\n"
          ],
          "name": "stdout"
        }
      ]
    },
    {
      "cell_type": "code",
      "metadata": {
        "colab": {
          "base_uri": "https://localhost:8080/"
        },
        "id": "qo-WxBl7bw1o",
        "outputId": "7e488b7a-9f24-49dd-f0c1-297ccf6f5b8f"
      },
      "source": [
        "#removing the G3 column and saving it into the labels variable\n",
        "\n",
        "trainLabels = trainFeatures.pop('G3')\n",
        "testLabels = testFeatures.pop('G3')\n",
        "\n",
        "print(trainLabels.head())\n",
        "print(testLabels.head())"
      ],
      "execution_count": 20,
      "outputs": [
        {
          "output_type": "stream",
          "text": [
            "329    14\n",
            "318    10\n",
            "317     9\n",
            "65     15\n",
            "59     16\n",
            "Name: G3, dtype: int64\n",
            "9     15\n",
            "25     8\n",
            "28    11\n",
            "31    17\n",
            "32    16\n",
            "Name: G3, dtype: int64\n"
          ],
          "name": "stdout"
        }
      ]
    },
    {
      "cell_type": "code",
      "metadata": {
        "colab": {
          "base_uri": "https://localhost:8080/"
        },
        "id": "Do-5Hn7Kb0E-",
        "outputId": "102f57f3-481a-4e4d-87c7-307edf25d830"
      },
      "source": [
        "print(trainFeatures.head())\n",
        "print(testFeatures.head())"
      ],
      "execution_count": 21,
      "outputs": [
        {
          "output_type": "stream",
          "text": [
            "     G1\n",
            "329  14\n",
            "318  11\n",
            "317   9\n",
            "65   16\n",
            "59   15\n",
            "    G1\n",
            "9   14\n",
            "25   6\n",
            "28  11\n",
            "31  17\n",
            "32  17\n"
          ],
          "name": "stdout"
        }
      ]
    },
    {
      "cell_type": "code",
      "metadata": {
        "id": "pjFtLe5Eb44P"
      },
      "source": [
        "# univariate -> num(features) = 1\n",
        "# multvariate -> num(features) > 1 = 11\n",
        "\n",
        "\n",
        "model = tf.keras.Sequential([\n",
        "                             tf.keras.layers.Dense(1)\n",
        "\n",
        "])"
      ],
      "execution_count": 22,
      "outputs": []
    },
    {
      "cell_type": "code",
      "metadata": {
        "id": "tpLqqOmzb8iS"
      },
      "source": [
        "model.compile(\n",
        "    loss = 'mean_absolute_error', #minimizing the MAE loss\n",
        "    optimizer = tf.keras.optimizers.Adam(0.001), #learning rate specified as 0.001\n",
        "    # optimizer = 'adam', #takes the default learning rate\n",
        "    metrics = ['mae', 'mse'] #meanSquare and meanAbsolute error metrics\n",
        ")"
      ],
      "execution_count": 23,
      "outputs": []
    },
    {
      "cell_type": "code",
      "metadata": {
        "colab": {
          "base_uri": "https://localhost:8080/"
        },
        "id": "su4yQaAvb_Fg",
        "outputId": "4135da58-4a95-4a63-bb8f-a2779596e62a"
      },
      "source": [
        "numEpochs = 300\n",
        "history = model.fit(x = trainFeatures, y = trainLabels, validation_data = (testFeatures, testLabels), epochs = numEpochs)"
      ],
      "execution_count": 24,
      "outputs": [
        {
          "output_type": "stream",
          "text": [
            "Epoch 1/300\n",
            "10/10 [==============================] - 1s 20ms/step - loss: 25.8142 - mae: 25.8142 - mse: 743.3052 - val_loss: 27.3099 - val_mae: 27.3099 - val_mse: 829.5135\n",
            "Epoch 2/300\n",
            "10/10 [==============================] - 0s 4ms/step - loss: 25.6966 - mae: 25.6966 - mse: 736.7399 - val_loss: 27.1852 - val_mae: 27.1852 - val_mse: 822.1115\n",
            "Epoch 3/300\n",
            "10/10 [==============================] - 0s 3ms/step - loss: 25.5797 - mae: 25.5797 - mse: 730.2433 - val_loss: 27.0601 - val_mae: 27.0601 - val_mse: 814.7209\n",
            "Epoch 4/300\n",
            "10/10 [==============================] - 0s 4ms/step - loss: 25.4612 - mae: 25.4612 - mse: 723.6159 - val_loss: 26.9357 - val_mae: 26.9357 - val_mse: 807.4102\n",
            "Epoch 5/300\n",
            "10/10 [==============================] - 0s 4ms/step - loss: 25.3436 - mae: 25.3436 - mse: 717.0883 - val_loss: 26.8115 - val_mae: 26.8115 - val_mse: 800.1375\n",
            "Epoch 6/300\n",
            "10/10 [==============================] - 0s 3ms/step - loss: 25.2266 - mae: 25.2266 - mse: 710.6867 - val_loss: 26.6868 - val_mae: 26.6868 - val_mse: 792.8705\n",
            "Epoch 7/300\n",
            "10/10 [==============================] - 0s 4ms/step - loss: 25.1094 - mae: 25.1094 - mse: 704.2963 - val_loss: 26.5618 - val_mae: 26.5618 - val_mse: 785.6226\n",
            "Epoch 8/300\n",
            "10/10 [==============================] - 0s 4ms/step - loss: 24.9911 - mae: 24.9911 - mse: 697.7803 - val_loss: 26.4376 - val_mae: 26.4376 - val_mse: 778.4514\n",
            "Epoch 9/300\n",
            "10/10 [==============================] - 0s 4ms/step - loss: 24.8736 - mae: 24.8736 - mse: 691.3901 - val_loss: 26.3134 - val_mae: 26.3134 - val_mse: 771.3123\n",
            "Epoch 10/300\n",
            "10/10 [==============================] - 0s 4ms/step - loss: 24.7559 - mae: 24.7559 - mse: 684.9967 - val_loss: 26.1891 - val_mae: 26.1891 - val_mse: 764.2040\n",
            "Epoch 11/300\n",
            "10/10 [==============================] - 0s 4ms/step - loss: 24.6384 - mae: 24.6384 - mse: 678.6917 - val_loss: 26.0647 - val_mae: 26.0647 - val_mse: 757.1249\n",
            "Epoch 12/300\n",
            "10/10 [==============================] - 0s 4ms/step - loss: 24.5213 - mae: 24.5213 - mse: 672.4082 - val_loss: 25.9398 - val_mae: 25.9398 - val_mse: 750.0485\n",
            "Epoch 13/300\n",
            "10/10 [==============================] - 0s 4ms/step - loss: 24.4047 - mae: 24.4047 - mse: 666.2742 - val_loss: 25.8142 - val_mae: 25.8142 - val_mse: 742.9661\n",
            "Epoch 14/300\n",
            "10/10 [==============================] - 0s 4ms/step - loss: 24.2863 - mae: 24.2863 - mse: 659.9746 - val_loss: 25.6898 - val_mae: 25.6898 - val_mse: 735.9806\n",
            "Epoch 15/300\n",
            "10/10 [==============================] - 0s 5ms/step - loss: 24.1675 - mae: 24.1675 - mse: 653.6433 - val_loss: 25.5665 - val_mae: 25.5665 - val_mse: 729.0956\n",
            "Epoch 16/300\n",
            "10/10 [==============================] - 0s 3ms/step - loss: 24.0514 - mae: 24.0514 - mse: 647.5814 - val_loss: 25.4417 - val_mae: 25.4417 - val_mse: 722.1556\n",
            "Epoch 17/300\n",
            "10/10 [==============================] - 0s 4ms/step - loss: 23.9339 - mae: 23.9339 - mse: 641.4280 - val_loss: 25.3169 - val_mae: 25.3169 - val_mse: 715.2505\n",
            "Epoch 18/300\n",
            "10/10 [==============================] - 0s 4ms/step - loss: 23.8159 - mae: 23.8159 - mse: 635.2680 - val_loss: 25.1925 - val_mae: 25.1925 - val_mse: 708.4044\n",
            "Epoch 19/300\n",
            "10/10 [==============================] - 0s 4ms/step - loss: 23.6979 - mae: 23.6979 - mse: 629.0974 - val_loss: 25.0687 - val_mae: 25.0687 - val_mse: 701.6202\n",
            "Epoch 20/300\n",
            "10/10 [==============================] - 0s 4ms/step - loss: 23.5813 - mae: 23.5813 - mse: 623.1167 - val_loss: 24.9439 - val_mae: 24.9439 - val_mse: 694.8157\n",
            "Epoch 21/300\n",
            "10/10 [==============================] - 0s 4ms/step - loss: 23.4633 - mae: 23.4633 - mse: 617.0322 - val_loss: 24.8195 - val_mae: 24.8195 - val_mse: 688.0712\n",
            "Epoch 22/300\n",
            "10/10 [==============================] - 0s 5ms/step - loss: 23.3457 - mae: 23.3457 - mse: 611.0120 - val_loss: 24.6951 - val_mae: 24.6951 - val_mse: 681.3559\n",
            "Epoch 23/300\n",
            "10/10 [==============================] - 0s 6ms/step - loss: 23.2290 - mae: 23.2290 - mse: 605.1464 - val_loss: 24.5699 - val_mae: 24.5699 - val_mse: 674.6304\n",
            "Epoch 24/300\n",
            "10/10 [==============================] - 0s 4ms/step - loss: 23.1107 - mae: 23.1107 - mse: 599.1392 - val_loss: 24.4456 - val_mae: 24.4456 - val_mse: 667.9852\n",
            "Epoch 25/300\n",
            "10/10 [==============================] - 0s 5ms/step - loss: 22.9929 - mae: 22.9929 - mse: 593.1990 - val_loss: 24.3214 - val_mae: 24.3214 - val_mse: 661.3780\n",
            "Epoch 26/300\n",
            "10/10 [==============================] - 0s 4ms/step - loss: 22.8760 - mae: 22.8760 - mse: 587.3917 - val_loss: 24.1965 - val_mae: 24.1965 - val_mse: 654.7740\n",
            "Epoch 27/300\n",
            "10/10 [==============================] - 0s 4ms/step - loss: 22.7584 - mae: 22.7584 - mse: 581.5402 - val_loss: 24.0719 - val_mae: 24.0719 - val_mse: 648.2147\n",
            "Epoch 28/300\n",
            "10/10 [==============================] - 0s 4ms/step - loss: 22.6407 - mae: 22.6407 - mse: 575.6970 - val_loss: 23.9476 - val_mae: 23.9476 - val_mse: 641.7023\n",
            "Epoch 29/300\n",
            "10/10 [==============================] - 0s 4ms/step - loss: 22.5234 - mae: 22.5234 - mse: 569.8874 - val_loss: 23.8229 - val_mae: 23.8229 - val_mse: 635.2066\n",
            "Epoch 30/300\n",
            "10/10 [==============================] - 0s 4ms/step - loss: 22.4055 - mae: 22.4055 - mse: 564.1215 - val_loss: 23.6987 - val_mae: 23.6987 - val_mse: 628.7645\n",
            "Epoch 31/300\n",
            "10/10 [==============================] - 0s 4ms/step - loss: 22.2877 - mae: 22.2877 - mse: 558.3479 - val_loss: 23.5747 - val_mae: 23.5747 - val_mse: 622.3693\n",
            "Epoch 32/300\n",
            "10/10 [==============================] - 0s 4ms/step - loss: 22.1704 - mae: 22.1704 - mse: 552.6320 - val_loss: 23.4502 - val_mae: 23.4502 - val_mse: 615.9814\n",
            "Epoch 33/300\n",
            "10/10 [==============================] - 0s 4ms/step - loss: 22.0535 - mae: 22.0535 - mse: 547.0645 - val_loss: 23.3250 - val_mae: 23.3250 - val_mse: 609.5942\n",
            "Epoch 34/300\n",
            "10/10 [==============================] - 0s 4ms/step - loss: 21.9356 - mae: 21.9356 - mse: 541.3897 - val_loss: 23.2003 - val_mae: 23.2003 - val_mse: 603.2629\n",
            "Epoch 35/300\n",
            "10/10 [==============================] - 0s 4ms/step - loss: 21.8181 - mae: 21.8181 - mse: 535.7969 - val_loss: 23.0756 - val_mae: 23.0756 - val_mse: 596.9623\n",
            "Epoch 36/300\n",
            "10/10 [==============================] - 0s 3ms/step - loss: 21.7004 - mae: 21.7004 - mse: 530.2131 - val_loss: 22.9510 - val_mae: 22.9510 - val_mse: 590.7045\n",
            "Epoch 37/300\n",
            "10/10 [==============================] - 0s 4ms/step - loss: 21.5824 - mae: 21.5824 - mse: 524.5980 - val_loss: 22.8268 - val_mae: 22.8268 - val_mse: 584.4987\n",
            "Epoch 38/300\n",
            "10/10 [==============================] - 0s 5ms/step - loss: 21.4651 - mae: 21.4651 - mse: 519.0976 - val_loss: 22.7023 - val_mae: 22.7023 - val_mse: 578.3130\n",
            "Epoch 39/300\n",
            "10/10 [==============================] - 0s 4ms/step - loss: 21.3474 - mae: 21.3474 - mse: 513.5652 - val_loss: 22.5780 - val_mae: 22.5780 - val_mse: 572.1669\n",
            "Epoch 40/300\n",
            "10/10 [==============================] - 0s 4ms/step - loss: 21.2303 - mae: 21.2303 - mse: 508.1534 - val_loss: 22.4531 - val_mae: 22.4531 - val_mse: 566.0298\n",
            "Epoch 41/300\n",
            "10/10 [==============================] - 0s 4ms/step - loss: 21.1128 - mae: 21.1128 - mse: 502.7380 - val_loss: 22.3283 - val_mae: 22.3283 - val_mse: 559.9252\n",
            "Epoch 42/300\n",
            "10/10 [==============================] - 0s 4ms/step - loss: 20.9945 - mae: 20.9945 - mse: 497.2829 - val_loss: 22.2042 - val_mae: 22.2042 - val_mse: 553.8903\n",
            "Epoch 43/300\n",
            "10/10 [==============================] - 0s 4ms/step - loss: 20.8772 - mae: 20.8772 - mse: 491.8889 - val_loss: 22.0798 - val_mae: 22.0798 - val_mse: 547.8738\n",
            "Epoch 44/300\n",
            "10/10 [==============================] - 0s 4ms/step - loss: 20.7605 - mae: 20.7605 - mse: 486.6229 - val_loss: 21.9546 - val_mae: 21.9546 - val_mse: 541.8535\n",
            "Epoch 45/300\n",
            "10/10 [==============================] - 0s 4ms/step - loss: 20.6421 - mae: 20.6421 - mse: 481.2577 - val_loss: 21.8303 - val_mae: 21.8303 - val_mse: 535.9091\n",
            "Epoch 46/300\n",
            "10/10 [==============================] - 0s 4ms/step - loss: 20.5242 - mae: 20.5242 - mse: 475.9081 - val_loss: 21.7064 - val_mae: 21.7064 - val_mse: 530.0172\n",
            "Epoch 47/300\n",
            "10/10 [==============================] - 0s 4ms/step - loss: 20.4073 - mae: 20.4073 - mse: 470.6974 - val_loss: 21.5818 - val_mae: 21.5818 - val_mse: 524.1256\n",
            "Epoch 48/300\n",
            "10/10 [==============================] - 0s 6ms/step - loss: 20.2903 - mae: 20.2903 - mse: 465.5128 - val_loss: 21.4566 - val_mae: 21.4566 - val_mse: 518.2379\n",
            "Epoch 49/300\n",
            "10/10 [==============================] - 0s 4ms/step - loss: 20.1719 - mae: 20.1719 - mse: 460.2737 - val_loss: 21.3323 - val_mae: 21.3323 - val_mse: 512.4267\n",
            "Epoch 50/300\n",
            "10/10 [==============================] - 0s 4ms/step - loss: 20.0546 - mae: 20.0546 - mse: 455.1258 - val_loss: 21.2077 - val_mae: 21.2077 - val_mse: 506.6346\n",
            "Epoch 51/300\n",
            "10/10 [==============================] - 0s 4ms/step - loss: 19.9375 - mae: 19.9375 - mse: 450.0460 - val_loss: 21.0826 - val_mae: 21.0826 - val_mse: 500.8560\n",
            "Epoch 52/300\n",
            "10/10 [==============================] - 0s 4ms/step - loss: 19.8187 - mae: 19.8187 - mse: 444.7899 - val_loss: 20.9588 - val_mae: 20.9588 - val_mse: 495.1665\n",
            "Epoch 53/300\n",
            "10/10 [==============================] - 0s 4ms/step - loss: 19.7019 - mae: 19.7019 - mse: 439.7880 - val_loss: 20.8342 - val_mae: 20.8342 - val_mse: 489.4766\n",
            "Epoch 54/300\n",
            "10/10 [==============================] - 0s 3ms/step - loss: 19.5848 - mae: 19.5848 - mse: 434.8114 - val_loss: 20.7092 - val_mae: 20.7092 - val_mse: 483.7977\n",
            "Epoch 55/300\n",
            "10/10 [==============================] - 0s 4ms/step - loss: 19.4668 - mae: 19.4668 - mse: 429.7286 - val_loss: 20.5848 - val_mae: 20.5848 - val_mse: 478.1813\n",
            "Epoch 56/300\n",
            "10/10 [==============================] - 0s 4ms/step - loss: 19.3491 - mae: 19.3491 - mse: 424.7045 - val_loss: 20.4606 - val_mae: 20.4606 - val_mse: 472.6071\n",
            "Epoch 57/300\n",
            "10/10 [==============================] - 0s 6ms/step - loss: 19.2319 - mae: 19.2319 - mse: 419.7973 - val_loss: 20.3360 - val_mae: 20.3360 - val_mse: 467.0508\n",
            "Epoch 58/300\n",
            "10/10 [==============================] - 0s 3ms/step - loss: 19.1145 - mae: 19.1145 - mse: 414.8691 - val_loss: 20.2112 - val_mae: 20.2112 - val_mse: 461.5175\n",
            "Epoch 59/300\n",
            "10/10 [==============================] - 0s 4ms/step - loss: 18.9960 - mae: 18.9960 - mse: 409.8908 - val_loss: 20.0874 - val_mae: 20.0874 - val_mse: 456.0592\n",
            "Epoch 60/300\n",
            "10/10 [==============================] - 0s 4ms/step - loss: 18.8794 - mae: 18.8794 - mse: 405.1031 - val_loss: 19.9624 - val_mae: 19.9624 - val_mse: 450.5858\n",
            "Epoch 61/300\n",
            "10/10 [==============================] - 0s 4ms/step - loss: 18.7615 - mae: 18.7615 - mse: 400.2227 - val_loss: 19.8379 - val_mae: 19.8379 - val_mse: 445.1646\n",
            "Epoch 62/300\n",
            "10/10 [==============================] - 0s 3ms/step - loss: 18.6441 - mae: 18.6441 - mse: 395.4192 - val_loss: 19.7133 - val_mae: 19.7133 - val_mse: 439.7743\n",
            "Epoch 63/300\n",
            "10/10 [==============================] - 0s 4ms/step - loss: 18.5271 - mae: 18.5271 - mse: 390.7171 - val_loss: 19.5882 - val_mae: 19.5882 - val_mse: 434.3938\n",
            "Epoch 64/300\n",
            "10/10 [==============================] - 0s 4ms/step - loss: 18.4086 - mae: 18.4086 - mse: 385.8993 - val_loss: 19.4642 - val_mae: 19.4642 - val_mse: 429.0945\n",
            "Epoch 65/300\n",
            "10/10 [==============================] - 0s 5ms/step - loss: 18.2918 - mae: 18.2918 - mse: 381.2098 - val_loss: 19.3394 - val_mae: 19.3394 - val_mse: 423.7960\n",
            "Epoch 66/300\n",
            "10/10 [==============================] - 0s 4ms/step - loss: 18.1737 - mae: 18.1737 - mse: 376.4993 - val_loss: 19.2152 - val_mae: 19.2152 - val_mse: 418.5554\n",
            "Epoch 67/300\n",
            "10/10 [==============================] - 0s 4ms/step - loss: 18.0563 - mae: 18.0563 - mse: 371.8307 - val_loss: 19.0909 - val_mae: 19.0909 - val_mse: 413.3439\n",
            "Epoch 68/300\n",
            "10/10 [==============================] - 0s 4ms/step - loss: 17.9386 - mae: 17.9386 - mse: 367.1542 - val_loss: 18.9666 - val_mae: 18.9666 - val_mse: 408.1664\n",
            "Epoch 69/300\n",
            "10/10 [==============================] - 0s 4ms/step - loss: 17.8218 - mae: 17.8218 - mse: 362.6050 - val_loss: 18.8417 - val_mae: 18.8417 - val_mse: 402.9941\n",
            "Epoch 70/300\n",
            "10/10 [==============================] - 0s 4ms/step - loss: 17.7039 - mae: 17.7039 - mse: 358.0514 - val_loss: 18.7171 - val_mae: 18.7171 - val_mse: 397.8690\n",
            "Epoch 71/300\n",
            "10/10 [==============================] - 0s 5ms/step - loss: 17.5864 - mae: 17.5864 - mse: 353.4842 - val_loss: 18.5924 - val_mae: 18.5924 - val_mse: 392.7745\n",
            "Epoch 72/300\n",
            "10/10 [==============================] - 0s 4ms/step - loss: 17.4682 - mae: 17.4682 - mse: 348.9072 - val_loss: 18.4684 - val_mae: 18.4684 - val_mse: 387.7399\n",
            "Epoch 73/300\n",
            "10/10 [==============================] - 0s 4ms/step - loss: 17.3516 - mae: 17.3516 - mse: 344.5283 - val_loss: 18.3434 - val_mae: 18.3434 - val_mse: 382.7006\n",
            "Epoch 74/300\n",
            "10/10 [==============================] - 0s 4ms/step - loss: 17.2334 - mae: 17.2334 - mse: 339.9993 - val_loss: 18.2190 - val_mae: 18.2190 - val_mse: 377.7192\n",
            "Epoch 75/300\n",
            "10/10 [==============================] - 0s 5ms/step - loss: 17.1160 - mae: 17.1160 - mse: 335.6115 - val_loss: 18.0945 - val_mae: 18.0945 - val_mse: 372.7630\n",
            "Epoch 76/300\n",
            "10/10 [==============================] - 0s 4ms/step - loss: 16.9982 - mae: 16.9982 - mse: 331.1731 - val_loss: 17.9701 - val_mae: 17.9701 - val_mse: 367.8488\n",
            "Epoch 77/300\n",
            "10/10 [==============================] - 0s 4ms/step - loss: 16.8810 - mae: 16.8810 - mse: 326.8594 - val_loss: 17.8452 - val_mae: 17.8452 - val_mse: 362.9473\n",
            "Epoch 78/300\n",
            "10/10 [==============================] - 0s 5ms/step - loss: 16.7633 - mae: 16.7633 - mse: 322.5445 - val_loss: 17.7206 - val_mae: 17.7206 - val_mse: 358.0879\n",
            "Epoch 79/300\n",
            "10/10 [==============================] - 0s 4ms/step - loss: 16.6457 - mae: 16.6457 - mse: 318.2067 - val_loss: 17.5960 - val_mae: 17.5960 - val_mse: 353.2642\n",
            "Epoch 80/300\n",
            "10/10 [==============================] - 0s 3ms/step - loss: 16.5279 - mae: 16.5279 - mse: 313.9151 - val_loss: 17.4718 - val_mae: 17.4718 - val_mse: 348.4888\n",
            "Epoch 81/300\n",
            "10/10 [==============================] - 0s 4ms/step - loss: 16.4105 - mae: 16.4105 - mse: 309.6494 - val_loss: 17.3475 - val_mae: 17.3475 - val_mse: 343.7419\n",
            "Epoch 82/300\n",
            "10/10 [==============================] - 0s 5ms/step - loss: 16.2933 - mae: 16.2933 - mse: 305.4688 - val_loss: 17.2227 - val_mae: 17.2227 - val_mse: 339.0117\n",
            "Epoch 83/300\n",
            "10/10 [==============================] - 0s 4ms/step - loss: 16.1754 - mae: 16.1754 - mse: 301.2814 - val_loss: 17.0982 - val_mae: 17.0982 - val_mse: 334.3264\n",
            "Epoch 84/300\n",
            "10/10 [==============================] - 0s 4ms/step - loss: 16.0584 - mae: 16.0584 - mse: 297.1902 - val_loss: 16.9734 - val_mae: 16.9734 - val_mse: 329.6586\n",
            "Epoch 85/300\n",
            "10/10 [==============================] - 0s 5ms/step - loss: 15.9400 - mae: 15.9400 - mse: 292.9382 - val_loss: 16.8494 - val_mae: 16.8494 - val_mse: 325.0600\n",
            "Epoch 86/300\n",
            "10/10 [==============================] - 0s 4ms/step - loss: 15.8229 - mae: 15.8229 - mse: 288.8887 - val_loss: 16.7249 - val_mae: 16.7249 - val_mse: 320.4720\n",
            "Epoch 87/300\n",
            "10/10 [==============================] - 0s 5ms/step - loss: 15.7047 - mae: 15.7047 - mse: 284.7804 - val_loss: 16.6010 - val_mae: 16.6010 - val_mse: 315.9394\n",
            "Epoch 88/300\n",
            "10/10 [==============================] - 0s 4ms/step - loss: 15.5887 - mae: 15.5887 - mse: 280.8646 - val_loss: 16.4753 - val_mae: 16.4753 - val_mse: 311.3767\n",
            "Epoch 89/300\n",
            "10/10 [==============================] - 0s 4ms/step - loss: 15.4704 - mae: 15.4704 - mse: 276.8044 - val_loss: 16.3505 - val_mae: 16.3505 - val_mse: 306.8783\n",
            "Epoch 90/300\n",
            "10/10 [==============================] - 0s 4ms/step - loss: 15.3525 - mae: 15.3525 - mse: 272.8158 - val_loss: 16.2262 - val_mae: 16.2262 - val_mse: 302.4339\n",
            "Epoch 91/300\n",
            "10/10 [==============================] - 0s 4ms/step - loss: 15.2345 - mae: 15.2345 - mse: 268.8237 - val_loss: 16.1023 - val_mae: 16.1023 - val_mse: 298.0343\n",
            "Epoch 92/300\n",
            "10/10 [==============================] - 0s 7ms/step - loss: 15.1179 - mae: 15.1179 - mse: 264.9613 - val_loss: 15.9774 - val_mae: 15.9774 - val_mse: 293.6324\n",
            "Epoch 93/300\n",
            "10/10 [==============================] - 0s 4ms/step - loss: 14.9999 - mae: 14.9999 - mse: 261.0678 - val_loss: 15.8528 - val_mae: 15.8528 - val_mse: 289.2772\n",
            "Epoch 94/300\n",
            "10/10 [==============================] - 0s 4ms/step - loss: 14.8824 - mae: 14.8824 - mse: 257.2183 - val_loss: 15.7281 - val_mae: 15.7281 - val_mse: 284.9492\n",
            "Epoch 95/300\n",
            "10/10 [==============================] - 0s 4ms/step - loss: 14.7651 - mae: 14.7651 - mse: 253.4063 - val_loss: 15.6032 - val_mae: 15.6032 - val_mse: 280.6496\n",
            "Epoch 96/300\n",
            "10/10 [==============================] - 0s 4ms/step - loss: 14.6470 - mae: 14.6470 - mse: 249.5682 - val_loss: 15.4789 - val_mae: 15.4789 - val_mse: 276.4023\n",
            "Epoch 97/300\n",
            "10/10 [==============================] - 0s 4ms/step - loss: 14.5293 - mae: 14.5293 - mse: 245.7816 - val_loss: 15.3547 - val_mae: 15.3547 - val_mse: 272.1935\n",
            "Epoch 98/300\n",
            "10/10 [==============================] - 0s 4ms/step - loss: 14.4125 - mae: 14.4125 - mse: 242.0911 - val_loss: 15.2297 - val_mae: 15.2297 - val_mse: 267.9900\n",
            "Epoch 99/300\n",
            "10/10 [==============================] - 0s 4ms/step - loss: 14.2943 - mae: 14.2943 - mse: 238.3255 - val_loss: 15.1054 - val_mae: 15.1054 - val_mse: 263.8448\n",
            "Epoch 100/300\n",
            "10/10 [==============================] - 0s 5ms/step - loss: 14.1770 - mae: 14.1770 - mse: 234.6651 - val_loss: 14.9810 - val_mae: 14.9810 - val_mse: 259.7275\n",
            "Epoch 101/300\n",
            "10/10 [==============================] - 0s 4ms/step - loss: 14.0595 - mae: 14.0595 - mse: 231.0278 - val_loss: 14.8565 - val_mae: 14.8565 - val_mse: 255.6403\n",
            "Epoch 102/300\n",
            "10/10 [==============================] - 0s 4ms/step - loss: 13.9417 - mae: 13.9417 - mse: 227.3813 - val_loss: 14.7323 - val_mae: 14.7323 - val_mse: 251.5955\n",
            "Epoch 103/300\n",
            "10/10 [==============================] - 0s 6ms/step - loss: 13.8247 - mae: 13.8247 - mse: 223.8242 - val_loss: 14.6073 - val_mae: 14.6073 - val_mse: 247.5621\n",
            "Epoch 104/300\n",
            "10/10 [==============================] - 0s 4ms/step - loss: 13.7064 - mae: 13.7064 - mse: 220.2109 - val_loss: 14.4833 - val_mae: 14.4833 - val_mse: 243.5914\n",
            "Epoch 105/300\n",
            "10/10 [==============================] - 0s 5ms/step - loss: 13.5898 - mae: 13.5898 - mse: 216.7549 - val_loss: 14.3583 - val_mae: 14.3583 - val_mse: 239.6201\n",
            "Epoch 106/300\n",
            "10/10 [==============================] - 0s 4ms/step - loss: 13.4724 - mae: 13.4724 - mse: 213.2806 - val_loss: 14.2332 - val_mae: 14.2332 - val_mse: 235.6814\n",
            "Epoch 107/300\n",
            "10/10 [==============================] - 0s 4ms/step - loss: 13.3539 - mae: 13.3539 - mse: 209.7431 - val_loss: 14.1092 - val_mae: 14.1092 - val_mse: 231.8103\n",
            "Epoch 108/300\n",
            "10/10 [==============================] - 0s 4ms/step - loss: 13.2363 - mae: 13.2363 - mse: 206.2889 - val_loss: 13.9852 - val_mae: 13.9852 - val_mse: 227.9736\n",
            "Epoch 109/300\n",
            "10/10 [==============================] - 0s 4ms/step - loss: 13.1191 - mae: 13.1191 - mse: 202.8627 - val_loss: 13.8609 - val_mae: 13.8609 - val_mse: 224.1612\n",
            "Epoch 110/300\n",
            "10/10 [==============================] - 0s 4ms/step - loss: 13.0024 - mae: 13.0024 - mse: 199.5633 - val_loss: 13.7358 - val_mae: 13.7358 - val_mse: 220.3557\n",
            "Epoch 111/300\n",
            "10/10 [==============================] - 0s 4ms/step - loss: 12.8847 - mae: 12.8847 - mse: 196.2084 - val_loss: 13.6109 - val_mae: 13.6109 - val_mse: 216.5906\n",
            "Epoch 112/300\n",
            "10/10 [==============================] - 0s 4ms/step - loss: 12.7660 - mae: 12.7660 - mse: 192.7804 - val_loss: 13.4873 - val_mae: 13.4873 - val_mse: 212.8990\n",
            "Epoch 113/300\n",
            "10/10 [==============================] - 0s 4ms/step - loss: 12.6497 - mae: 12.6497 - mse: 189.5901 - val_loss: 13.3624 - val_mae: 13.3624 - val_mse: 209.1995\n",
            "Epoch 114/300\n",
            "10/10 [==============================] - 0s 3ms/step - loss: 12.5316 - mae: 12.5316 - mse: 186.2939 - val_loss: 13.2381 - val_mae: 13.2381 - val_mse: 205.5512\n",
            "Epoch 115/300\n",
            "10/10 [==============================] - 0s 4ms/step - loss: 12.4140 - mae: 12.4140 - mse: 183.0391 - val_loss: 13.1137 - val_mae: 13.1137 - val_mse: 201.9349\n",
            "Epoch 116/300\n",
            "10/10 [==============================] - 0s 5ms/step - loss: 12.2968 - mae: 12.2968 - mse: 179.8746 - val_loss: 12.9889 - val_mae: 12.9889 - val_mse: 198.3400\n",
            "Epoch 117/300\n",
            "10/10 [==============================] - 0s 4ms/step - loss: 12.1793 - mae: 12.1793 - mse: 176.6647 - val_loss: 12.8646 - val_mae: 12.8646 - val_mse: 194.7915\n",
            "Epoch 118/300\n",
            "10/10 [==============================] - 0s 4ms/step - loss: 12.0625 - mae: 12.0625 - mse: 173.5826 - val_loss: 12.7402 - val_mae: 12.7402 - val_mse: 191.2746\n",
            "Epoch 119/300\n",
            "10/10 [==============================] - 0s 4ms/step - loss: 11.9454 - mae: 11.9454 - mse: 170.4595 - val_loss: 12.6159 - val_mae: 12.6159 - val_mse: 187.7954\n",
            "Epoch 120/300\n",
            "10/10 [==============================] - 0s 4ms/step - loss: 11.8289 - mae: 11.8289 - mse: 167.3879 - val_loss: 12.4912 - val_mae: 12.4912 - val_mse: 184.3360\n",
            "Epoch 121/300\n",
            "10/10 [==============================] - 0s 4ms/step - loss: 11.7111 - mae: 11.7111 - mse: 164.3101 - val_loss: 12.3678 - val_mae: 12.3678 - val_mse: 180.9458\n",
            "Epoch 122/300\n",
            "10/10 [==============================] - 0s 4ms/step - loss: 11.5961 - mae: 11.5961 - mse: 161.3372 - val_loss: 12.2440 - val_mae: 12.2440 - val_mse: 177.5764\n",
            "Epoch 123/300\n",
            "10/10 [==============================] - 0s 5ms/step - loss: 11.4800 - mae: 11.4800 - mse: 158.3126 - val_loss: 12.1211 - val_mae: 12.1211 - val_mse: 174.2663\n",
            "Epoch 124/300\n",
            "10/10 [==============================] - 0s 4ms/step - loss: 11.3656 - mae: 11.3656 - mse: 155.4504 - val_loss: 11.9971 - val_mae: 11.9971 - val_mse: 170.9570\n",
            "Epoch 125/300\n",
            "10/10 [==============================] - 0s 4ms/step - loss: 11.2511 - mae: 11.2511 - mse: 152.5229 - val_loss: 11.8763 - val_mae: 11.8763 - val_mse: 167.7234\n",
            "Epoch 126/300\n",
            "10/10 [==============================] - 0s 4ms/step - loss: 11.1413 - mae: 11.1413 - mse: 149.6707 - val_loss: 11.7568 - val_mae: 11.7568 - val_mse: 164.5550\n",
            "Epoch 127/300\n",
            "10/10 [==============================] - 0s 4ms/step - loss: 11.0315 - mae: 11.0315 - mse: 146.8759 - val_loss: 11.6412 - val_mae: 11.6412 - val_mse: 161.4607\n",
            "Epoch 128/300\n",
            "10/10 [==============================] - 0s 4ms/step - loss: 10.9255 - mae: 10.9255 - mse: 144.1124 - val_loss: 11.5331 - val_mae: 11.5331 - val_mse: 158.4500\n",
            "Epoch 129/300\n",
            "10/10 [==============================] - 0s 4ms/step - loss: 10.8229 - mae: 10.8229 - mse: 141.5025 - val_loss: 11.4260 - val_mae: 11.4260 - val_mse: 155.4780\n",
            "Epoch 130/300\n",
            "10/10 [==============================] - 0s 4ms/step - loss: 10.7212 - mae: 10.7212 - mse: 138.8801 - val_loss: 11.3229 - val_mae: 11.3229 - val_mse: 152.5487\n",
            "Epoch 131/300\n",
            "10/10 [==============================] - 0s 4ms/step - loss: 10.6210 - mae: 10.6210 - mse: 136.3331 - val_loss: 11.2206 - val_mae: 11.2206 - val_mse: 149.6707\n",
            "Epoch 132/300\n",
            "10/10 [==============================] - 0s 4ms/step - loss: 10.5219 - mae: 10.5219 - mse: 133.7785 - val_loss: 11.1214 - val_mae: 11.1214 - val_mse: 146.9053\n",
            "Epoch 133/300\n",
            "10/10 [==============================] - 0s 5ms/step - loss: 10.4300 - mae: 10.4300 - mse: 131.3810 - val_loss: 11.0211 - val_mae: 11.0211 - val_mse: 144.1403\n",
            "Epoch 134/300\n",
            "10/10 [==============================] - 0s 4ms/step - loss: 10.3370 - mae: 10.3370 - mse: 128.9524 - val_loss: 10.9247 - val_mae: 10.9247 - val_mse: 141.5056\n",
            "Epoch 135/300\n",
            "10/10 [==============================] - 0s 5ms/step - loss: 10.2486 - mae: 10.2486 - mse: 126.5869 - val_loss: 10.8284 - val_mae: 10.8284 - val_mse: 138.9016\n",
            "Epoch 136/300\n",
            "10/10 [==============================] - 0s 4ms/step - loss: 10.1604 - mae: 10.1604 - mse: 124.3075 - val_loss: 10.7330 - val_mae: 10.7330 - val_mse: 136.3447\n",
            "Epoch 137/300\n",
            "10/10 [==============================] - 0s 4ms/step - loss: 10.0736 - mae: 10.0736 - mse: 122.0787 - val_loss: 10.6367 - val_mae: 10.6367 - val_mse: 133.7894\n",
            "Epoch 138/300\n",
            "10/10 [==============================] - 0s 4ms/step - loss: 9.9863 - mae: 9.9863 - mse: 119.8379 - val_loss: 10.5400 - val_mae: 10.5400 - val_mse: 131.2507\n",
            "Epoch 139/300\n",
            "10/10 [==============================] - 0s 4ms/step - loss: 9.8976 - mae: 9.8976 - mse: 117.5669 - val_loss: 10.4443 - val_mae: 10.4443 - val_mse: 128.7641\n",
            "Epoch 140/300\n",
            "10/10 [==============================] - 0s 4ms/step - loss: 9.8100 - mae: 9.8100 - mse: 115.3716 - val_loss: 10.3483 - val_mae: 10.3483 - val_mse: 126.2924\n",
            "Epoch 141/300\n",
            "10/10 [==============================] - 0s 4ms/step - loss: 9.7221 - mae: 9.7221 - mse: 113.1795 - val_loss: 10.2522 - val_mae: 10.2522 - val_mse: 123.8466\n",
            "Epoch 142/300\n",
            "10/10 [==============================] - 0s 4ms/step - loss: 9.6325 - mae: 9.6325 - mse: 110.9998 - val_loss: 10.1576 - val_mae: 10.1576 - val_mse: 121.4622\n",
            "Epoch 143/300\n",
            "10/10 [==============================] - 0s 4ms/step - loss: 9.5459 - mae: 9.5459 - mse: 108.8885 - val_loss: 10.0610 - val_mae: 10.0610 - val_mse: 119.0533\n",
            "Epoch 144/300\n",
            "10/10 [==============================] - 0s 5ms/step - loss: 9.4593 - mae: 9.4593 - mse: 106.8253 - val_loss: 9.9624 - val_mae: 9.9624 - val_mse: 116.6186\n",
            "Epoch 145/300\n",
            "10/10 [==============================] - 0s 5ms/step - loss: 9.3691 - mae: 9.3691 - mse: 104.6280 - val_loss: 9.8655 - val_mae: 9.8655 - val_mse: 114.2554\n",
            "Epoch 146/300\n",
            "10/10 [==============================] - 0s 4ms/step - loss: 9.2806 - mae: 9.2806 - mse: 102.5683 - val_loss: 9.7684 - val_mae: 9.7684 - val_mse: 111.9109\n",
            "Epoch 147/300\n",
            "10/10 [==============================] - 0s 4ms/step - loss: 9.1917 - mae: 9.1917 - mse: 100.4921 - val_loss: 9.6713 - val_mae: 9.6713 - val_mse: 109.5925\n",
            "Epoch 148/300\n",
            "10/10 [==============================] - 0s 4ms/step - loss: 9.1028 - mae: 9.1028 - mse: 98.4321 - val_loss: 9.5740 - val_mae: 9.5740 - val_mse: 107.2956\n",
            "Epoch 149/300\n",
            "10/10 [==============================] - 0s 4ms/step - loss: 9.0135 - mae: 9.0135 - mse: 96.4173 - val_loss: 9.4769 - val_mae: 9.4769 - val_mse: 105.0309\n",
            "Epoch 150/300\n",
            "10/10 [==============================] - 0s 4ms/step - loss: 8.9254 - mae: 8.9254 - mse: 94.4227 - val_loss: 9.3788 - val_mae: 9.3788 - val_mse: 102.7683\n",
            "Epoch 151/300\n",
            "10/10 [==============================] - 0s 4ms/step - loss: 8.8360 - mae: 8.8360 - mse: 92.4256 - val_loss: 9.2809 - val_mae: 9.2809 - val_mse: 100.5357\n",
            "Epoch 152/300\n",
            "10/10 [==============================] - 0s 4ms/step - loss: 8.7456 - mae: 8.7456 - mse: 90.4482 - val_loss: 9.1840 - val_mae: 9.1840 - val_mse: 98.3519\n",
            "Epoch 153/300\n",
            "10/10 [==============================] - 0s 3ms/step - loss: 8.6573 - mae: 8.6573 - mse: 88.5350 - val_loss: 9.0858 - val_mae: 9.0858 - val_mse: 96.1655\n",
            "Epoch 154/300\n",
            "10/10 [==============================] - 0s 4ms/step - loss: 8.5671 - mae: 8.5671 - mse: 86.6002 - val_loss: 8.9882 - val_mae: 8.9882 - val_mse: 94.0198\n",
            "Epoch 155/300\n",
            "10/10 [==============================] - 0s 4ms/step - loss: 8.4779 - mae: 8.4779 - mse: 84.6920 - val_loss: 8.8899 - val_mae: 8.8899 - val_mse: 91.8848\n",
            "Epoch 156/300\n",
            "10/10 [==============================] - 0s 4ms/step - loss: 8.3879 - mae: 8.3879 - mse: 82.8226 - val_loss: 8.7916 - val_mae: 8.7916 - val_mse: 89.7765\n",
            "Epoch 157/300\n",
            "10/10 [==============================] - 0s 4ms/step - loss: 8.2982 - mae: 8.2982 - mse: 80.9564 - val_loss: 8.6930 - val_mae: 8.6930 - val_mse: 87.6878\n",
            "Epoch 158/300\n",
            "10/10 [==============================] - 0s 4ms/step - loss: 8.2079 - mae: 8.2079 - mse: 79.1018 - val_loss: 8.5945 - val_mae: 8.5945 - val_mse: 85.6280\n",
            "Epoch 159/300\n",
            "10/10 [==============================] - 0s 4ms/step - loss: 8.1182 - mae: 8.1182 - mse: 77.3162 - val_loss: 8.4954 - val_mae: 8.4954 - val_mse: 83.5817\n",
            "Epoch 160/300\n",
            "10/10 [==============================] - 0s 4ms/step - loss: 8.0290 - mae: 8.0290 - mse: 75.5190 - val_loss: 8.3951 - val_mae: 8.3951 - val_mse: 81.5392\n",
            "Epoch 161/300\n",
            "10/10 [==============================] - 0s 5ms/step - loss: 7.9369 - mae: 7.9369 - mse: 73.7124 - val_loss: 8.2968 - val_mae: 8.2968 - val_mse: 79.5640\n",
            "Epoch 162/300\n",
            "10/10 [==============================] - 0s 4ms/step - loss: 7.8467 - mae: 7.8467 - mse: 71.9741 - val_loss: 8.1983 - val_mae: 8.1983 - val_mse: 77.6119\n",
            "Epoch 163/300\n",
            "10/10 [==============================] - 0s 4ms/step - loss: 7.7555 - mae: 7.7555 - mse: 70.2458 - val_loss: 8.1003 - val_mae: 8.1003 - val_mse: 75.6958\n",
            "Epoch 164/300\n",
            "10/10 [==============================] - 0s 5ms/step - loss: 7.6657 - mae: 7.6657 - mse: 68.5437 - val_loss: 8.0011 - val_mae: 8.0011 - val_mse: 73.7847\n",
            "Epoch 165/300\n",
            "10/10 [==============================] - 0s 4ms/step - loss: 7.5758 - mae: 7.5758 - mse: 66.8862 - val_loss: 7.9009 - val_mae: 7.9009 - val_mse: 71.8804\n",
            "Epoch 166/300\n",
            "10/10 [==============================] - 0s 4ms/step - loss: 7.4845 - mae: 7.4845 - mse: 65.2291 - val_loss: 7.8013 - val_mae: 7.8013 - val_mse: 70.0137\n",
            "Epoch 167/300\n",
            "10/10 [==============================] - 0s 5ms/step - loss: 7.3919 - mae: 7.3919 - mse: 63.5200 - val_loss: 7.7032 - val_mae: 7.7032 - val_mse: 68.2033\n",
            "Epoch 168/300\n",
            "10/10 [==============================] - 0s 4ms/step - loss: 7.3039 - mae: 7.3039 - mse: 61.9819 - val_loss: 7.6018 - val_mae: 7.6018 - val_mse: 66.3594\n",
            "Epoch 169/300\n",
            "10/10 [==============================] - 0s 4ms/step - loss: 7.2107 - mae: 7.2107 - mse: 60.3535 - val_loss: 7.5027 - val_mae: 7.5027 - val_mse: 64.5855\n",
            "Epoch 170/300\n",
            "10/10 [==============================] - 0s 4ms/step - loss: 7.1193 - mae: 7.1193 - mse: 58.7666 - val_loss: 7.4037 - val_mae: 7.4037 - val_mse: 62.8396\n",
            "Epoch 171/300\n",
            "10/10 [==============================] - 0s 4ms/step - loss: 7.0290 - mae: 7.0290 - mse: 57.2444 - val_loss: 7.3036 - val_mae: 7.3036 - val_mse: 61.1016\n",
            "Epoch 172/300\n",
            "10/10 [==============================] - 0s 4ms/step - loss: 6.9375 - mae: 6.9375 - mse: 55.7032 - val_loss: 7.2034 - val_mae: 7.2034 - val_mse: 59.3901\n",
            "Epoch 173/300\n",
            "10/10 [==============================] - 0s 6ms/step - loss: 6.8455 - mae: 6.8455 - mse: 54.2155 - val_loss: 7.1039 - val_mae: 7.1039 - val_mse: 57.7164\n",
            "Epoch 174/300\n",
            "10/10 [==============================] - 0s 4ms/step - loss: 6.7535 - mae: 6.7535 - mse: 52.7121 - val_loss: 7.0046 - val_mae: 7.0046 - val_mse: 56.0746\n",
            "Epoch 175/300\n",
            "10/10 [==============================] - 0s 5ms/step - loss: 6.6640 - mae: 6.6640 - mse: 51.2925 - val_loss: 6.9028 - val_mae: 6.9028 - val_mse: 54.4198\n",
            "Epoch 176/300\n",
            "10/10 [==============================] - 0s 4ms/step - loss: 6.5720 - mae: 6.5720 - mse: 49.8822 - val_loss: 6.8014 - val_mae: 6.8014 - val_mse: 52.7979\n",
            "Epoch 177/300\n",
            "10/10 [==============================] - 0s 4ms/step - loss: 6.4786 - mae: 6.4786 - mse: 48.4395 - val_loss: 6.7015 - val_mae: 6.7015 - val_mse: 51.2301\n",
            "Epoch 178/300\n",
            "10/10 [==============================] - 0s 5ms/step - loss: 6.3862 - mae: 6.3862 - mse: 47.0628 - val_loss: 6.6021 - val_mae: 6.6021 - val_mse: 49.6955\n",
            "Epoch 179/300\n",
            "10/10 [==============================] - 0s 4ms/step - loss: 6.2962 - mae: 6.2962 - mse: 45.7091 - val_loss: 6.5005 - val_mae: 6.5005 - val_mse: 48.1569\n",
            "Epoch 180/300\n",
            "10/10 [==============================] - 0s 5ms/step - loss: 6.2021 - mae: 6.2021 - mse: 44.3420 - val_loss: 6.4012 - val_mae: 6.4012 - val_mse: 46.6785\n",
            "Epoch 181/300\n",
            "10/10 [==============================] - 0s 4ms/step - loss: 6.1123 - mae: 6.1123 - mse: 43.0651 - val_loss: 6.2990 - val_mae: 6.2990 - val_mse: 45.1861\n",
            "Epoch 182/300\n",
            "10/10 [==============================] - 0s 6ms/step - loss: 6.0191 - mae: 6.0191 - mse: 41.7561 - val_loss: 6.1976 - val_mae: 6.1976 - val_mse: 43.7342\n",
            "Epoch 183/300\n",
            "10/10 [==============================] - 0s 4ms/step - loss: 5.9266 - mae: 5.9266 - mse: 40.4943 - val_loss: 6.0961 - val_mae: 6.0961 - val_mse: 42.3092\n",
            "Epoch 184/300\n",
            "10/10 [==============================] - 0s 4ms/step - loss: 5.8332 - mae: 5.8332 - mse: 39.2397 - val_loss: 5.9955 - val_mae: 5.9955 - val_mse: 40.9252\n",
            "Epoch 185/300\n",
            "10/10 [==============================] - 0s 5ms/step - loss: 5.7415 - mae: 5.7415 - mse: 38.0356 - val_loss: 5.8939 - val_mae: 5.8939 - val_mse: 39.5547\n",
            "Epoch 186/300\n",
            "10/10 [==============================] - 0s 4ms/step - loss: 5.6486 - mae: 5.6486 - mse: 36.8248 - val_loss: 5.7925 - val_mae: 5.7925 - val_mse: 38.2152\n",
            "Epoch 187/300\n",
            "10/10 [==============================] - 0s 5ms/step - loss: 5.5553 - mae: 5.5553 - mse: 35.6494 - val_loss: 5.6916 - val_mae: 5.6916 - val_mse: 36.9105\n",
            "Epoch 188/300\n",
            "10/10 [==============================] - 0s 4ms/step - loss: 5.4636 - mae: 5.4636 - mse: 34.5334 - val_loss: 5.5893 - val_mae: 5.5893 - val_mse: 35.6166\n",
            "Epoch 189/300\n",
            "10/10 [==============================] - 0s 7ms/step - loss: 5.3695 - mae: 5.3695 - mse: 33.3765 - val_loss: 5.4887 - val_mae: 5.4887 - val_mse: 34.3719\n",
            "Epoch 190/300\n",
            "10/10 [==============================] - 0s 4ms/step - loss: 5.2781 - mae: 5.2781 - mse: 32.2921 - val_loss: 5.3870 - val_mae: 5.3870 - val_mse: 33.1426\n",
            "Epoch 191/300\n",
            "10/10 [==============================] - 0s 5ms/step - loss: 5.1852 - mae: 5.1852 - mse: 31.2182 - val_loss: 5.2862 - val_mae: 5.2862 - val_mse: 31.9469\n",
            "Epoch 192/300\n",
            "10/10 [==============================] - 0s 4ms/step - loss: 5.0945 - mae: 5.0945 - mse: 30.1896 - val_loss: 5.1852 - val_mae: 5.1852 - val_mse: 30.7573\n",
            "Epoch 193/300\n",
            "10/10 [==============================] - 0s 4ms/step - loss: 5.0005 - mae: 5.0005 - mse: 29.1524 - val_loss: 5.0857 - val_mae: 5.0857 - val_mse: 29.6152\n",
            "Epoch 194/300\n",
            "10/10 [==============================] - 0s 6ms/step - loss: 4.9075 - mae: 4.9075 - mse: 28.1589 - val_loss: 4.9866 - val_mae: 4.9866 - val_mse: 28.5052\n",
            "Epoch 195/300\n",
            "10/10 [==============================] - 0s 4ms/step - loss: 4.8156 - mae: 4.8156 - mse: 27.1902 - val_loss: 4.8866 - val_mae: 4.8866 - val_mse: 27.4135\n",
            "Epoch 196/300\n",
            "10/10 [==============================] - 0s 4ms/step - loss: 4.7217 - mae: 4.7217 - mse: 26.2370 - val_loss: 4.7878 - val_mae: 4.7878 - val_mse: 26.3626\n",
            "Epoch 197/300\n",
            "10/10 [==============================] - 0s 5ms/step - loss: 4.6310 - mae: 4.6310 - mse: 25.3391 - val_loss: 4.6868 - val_mae: 4.6868 - val_mse: 25.3175\n",
            "Epoch 198/300\n",
            "10/10 [==============================] - 0s 4ms/step - loss: 4.5380 - mae: 4.5380 - mse: 24.4299 - val_loss: 4.5869 - val_mae: 4.5869 - val_mse: 24.3128\n",
            "Epoch 199/300\n",
            "10/10 [==============================] - 0s 4ms/step - loss: 4.4470 - mae: 4.4470 - mse: 23.5648 - val_loss: 4.4870 - val_mae: 4.4870 - val_mse: 23.3368\n",
            "Epoch 200/300\n",
            "10/10 [==============================] - 0s 4ms/step - loss: 4.3544 - mae: 4.3544 - mse: 22.7124 - val_loss: 4.3892 - val_mae: 4.3892 - val_mse: 22.4087\n",
            "Epoch 201/300\n",
            "10/10 [==============================] - 0s 4ms/step - loss: 4.2649 - mae: 4.2649 - mse: 21.9298 - val_loss: 4.2897 - val_mae: 4.2897 - val_mse: 21.4928\n",
            "Epoch 202/300\n",
            "10/10 [==============================] - 0s 4ms/step - loss: 4.1726 - mae: 4.1726 - mse: 21.1044 - val_loss: 4.1913 - val_mae: 4.1913 - val_mse: 20.6152\n",
            "Epoch 203/300\n",
            "10/10 [==============================] - 0s 4ms/step - loss: 4.0814 - mae: 4.0814 - mse: 20.3375 - val_loss: 4.0928 - val_mae: 4.0928 - val_mse: 19.7650\n",
            "Epoch 204/300\n",
            "10/10 [==============================] - 0s 4ms/step - loss: 3.9948 - mae: 3.9948 - mse: 19.6228 - val_loss: 3.9930 - val_mae: 3.9930 - val_mse: 18.9309\n",
            "Epoch 205/300\n",
            "10/10 [==============================] - 0s 4ms/step - loss: 3.9070 - mae: 3.9070 - mse: 18.9154 - val_loss: 3.8967 - val_mae: 3.8967 - val_mse: 18.1530\n",
            "Epoch 206/300\n",
            "10/10 [==============================] - 0s 4ms/step - loss: 3.8223 - mae: 3.8223 - mse: 18.2569 - val_loss: 3.8002 - val_mae: 3.8002 - val_mse: 17.4012\n",
            "Epoch 207/300\n",
            "10/10 [==============================] - 0s 4ms/step - loss: 3.7381 - mae: 3.7381 - mse: 17.6114 - val_loss: 3.7033 - val_mae: 3.7033 - val_mse: 16.6720\n",
            "Epoch 208/300\n",
            "10/10 [==============================] - 0s 5ms/step - loss: 3.6533 - mae: 3.6533 - mse: 16.9887 - val_loss: 3.6073 - val_mae: 3.6073 - val_mse: 15.9767\n",
            "Epoch 209/300\n",
            "10/10 [==============================] - 0s 4ms/step - loss: 3.5695 - mae: 3.5695 - mse: 16.4021 - val_loss: 3.5118 - val_mae: 3.5118 - val_mse: 15.3113\n",
            "Epoch 210/300\n",
            "10/10 [==============================] - 0s 4ms/step - loss: 3.4847 - mae: 3.4847 - mse: 15.8156 - val_loss: 3.4186 - val_mae: 3.4186 - val_mse: 14.6871\n",
            "Epoch 211/300\n",
            "10/10 [==============================] - 0s 4ms/step - loss: 3.4052 - mae: 3.4052 - mse: 15.2856 - val_loss: 3.3265 - val_mae: 3.3265 - val_mse: 14.0728\n",
            "Epoch 212/300\n",
            "10/10 [==============================] - 0s 5ms/step - loss: 3.3225 - mae: 3.3225 - mse: 14.7508 - val_loss: 3.2373 - val_mae: 3.2373 - val_mse: 13.5020\n",
            "Epoch 213/300\n",
            "10/10 [==============================] - 0s 5ms/step - loss: 3.2419 - mae: 3.2419 - mse: 14.2528 - val_loss: 3.1484 - val_mae: 3.1484 - val_mse: 12.9578\n",
            "Epoch 214/300\n",
            "10/10 [==============================] - 0s 5ms/step - loss: 3.1639 - mae: 3.1639 - mse: 13.8067 - val_loss: 3.0584 - val_mae: 3.0584 - val_mse: 12.4319\n",
            "Epoch 215/300\n",
            "10/10 [==============================] - 0s 4ms/step - loss: 3.0863 - mae: 3.0863 - mse: 13.3508 - val_loss: 2.9699 - val_mae: 2.9699 - val_mse: 11.9332\n",
            "Epoch 216/300\n",
            "10/10 [==============================] - 0s 4ms/step - loss: 3.0087 - mae: 3.0087 - mse: 12.9483 - val_loss: 2.8832 - val_mae: 2.8832 - val_mse: 11.4585\n",
            "Epoch 217/300\n",
            "10/10 [==============================] - 0s 4ms/step - loss: 2.9311 - mae: 2.9311 - mse: 12.5410 - val_loss: 2.7976 - val_mae: 2.7976 - val_mse: 11.0121\n",
            "Epoch 218/300\n",
            "10/10 [==============================] - 0s 5ms/step - loss: 2.8542 - mae: 2.8542 - mse: 12.1651 - val_loss: 2.7152 - val_mae: 2.7152 - val_mse: 10.5951\n",
            "Epoch 219/300\n",
            "10/10 [==============================] - 0s 4ms/step - loss: 2.7797 - mae: 2.7797 - mse: 11.8195 - val_loss: 2.6341 - val_mae: 2.6341 - val_mse: 10.2080\n",
            "Epoch 220/300\n",
            "10/10 [==============================] - 0s 4ms/step - loss: 2.7069 - mae: 2.7069 - mse: 11.4837 - val_loss: 2.5539 - val_mae: 2.5539 - val_mse: 9.8458\n",
            "Epoch 221/300\n",
            "10/10 [==============================] - 0s 5ms/step - loss: 2.6388 - mae: 2.6388 - mse: 11.2047 - val_loss: 2.4766 - val_mae: 2.4766 - val_mse: 9.5062\n",
            "Epoch 222/300\n",
            "10/10 [==============================] - 0s 4ms/step - loss: 2.5719 - mae: 2.5719 - mse: 10.9244 - val_loss: 2.4027 - val_mae: 2.4027 - val_mse: 9.2030\n",
            "Epoch 223/300\n",
            "10/10 [==============================] - 0s 4ms/step - loss: 2.5067 - mae: 2.5067 - mse: 10.6820 - val_loss: 2.3304 - val_mae: 2.3304 - val_mse: 8.9267\n",
            "Epoch 224/300\n",
            "10/10 [==============================] - 0s 4ms/step - loss: 2.4445 - mae: 2.4445 - mse: 10.4448 - val_loss: 2.2606 - val_mae: 2.2606 - val_mse: 8.6788\n",
            "Epoch 225/300\n",
            "10/10 [==============================] - 0s 5ms/step - loss: 2.3932 - mae: 2.3932 - mse: 10.2514 - val_loss: 2.1977 - val_mae: 2.1977 - val_mse: 8.4654\n",
            "Epoch 226/300\n",
            "10/10 [==============================] - 0s 4ms/step - loss: 2.3483 - mae: 2.3483 - mse: 10.0860 - val_loss: 2.1401 - val_mae: 2.1401 - val_mse: 8.2816\n",
            "Epoch 227/300\n",
            "10/10 [==============================] - 0s 4ms/step - loss: 2.3067 - mae: 2.3067 - mse: 9.9249 - val_loss: 2.0851 - val_mae: 2.0851 - val_mse: 8.1181\n",
            "Epoch 228/300\n",
            "10/10 [==============================] - 0s 4ms/step - loss: 2.2681 - mae: 2.2681 - mse: 9.7910 - val_loss: 2.0317 - val_mae: 2.0317 - val_mse: 7.9714\n",
            "Epoch 229/300\n",
            "10/10 [==============================] - 0s 4ms/step - loss: 2.2353 - mae: 2.2353 - mse: 9.6788 - val_loss: 1.9836 - val_mae: 1.9836 - val_mse: 7.8413\n",
            "Epoch 230/300\n",
            "10/10 [==============================] - 0s 5ms/step - loss: 2.2049 - mae: 2.2049 - mse: 9.5896 - val_loss: 1.9421 - val_mae: 1.9421 - val_mse: 7.7355\n",
            "Epoch 231/300\n",
            "10/10 [==============================] - 0s 5ms/step - loss: 2.1790 - mae: 2.1790 - mse: 9.5075 - val_loss: 1.9010 - val_mae: 1.9010 - val_mse: 7.6377\n",
            "Epoch 232/300\n",
            "10/10 [==============================] - 0s 5ms/step - loss: 2.1534 - mae: 2.1534 - mse: 9.4295 - val_loss: 1.8644 - val_mae: 1.8644 - val_mse: 7.5537\n",
            "Epoch 233/300\n",
            "10/10 [==============================] - 0s 5ms/step - loss: 2.1311 - mae: 2.1311 - mse: 9.3732 - val_loss: 1.8388 - val_mae: 1.8388 - val_mse: 7.4826\n",
            "Epoch 234/300\n",
            "10/10 [==============================] - 0s 4ms/step - loss: 2.1108 - mae: 2.1108 - mse: 9.3175 - val_loss: 1.8152 - val_mae: 1.8152 - val_mse: 7.4219\n",
            "Epoch 235/300\n",
            "10/10 [==============================] - 0s 5ms/step - loss: 2.0916 - mae: 2.0916 - mse: 9.2736 - val_loss: 1.7916 - val_mae: 1.7916 - val_mse: 7.3679\n",
            "Epoch 236/300\n",
            "10/10 [==============================] - 0s 4ms/step - loss: 2.0726 - mae: 2.0726 - mse: 9.2328 - val_loss: 1.7678 - val_mae: 1.7678 - val_mse: 7.3197\n",
            "Epoch 237/300\n",
            "10/10 [==============================] - 0s 4ms/step - loss: 2.0540 - mae: 2.0540 - mse: 9.2043 - val_loss: 1.7486 - val_mae: 1.7486 - val_mse: 7.2801\n",
            "Epoch 238/300\n",
            "10/10 [==============================] - 0s 4ms/step - loss: 2.0390 - mae: 2.0390 - mse: 9.1684 - val_loss: 1.7331 - val_mae: 1.7331 - val_mse: 7.2491\n",
            "Epoch 239/300\n",
            "10/10 [==============================] - 0s 5ms/step - loss: 2.0261 - mae: 2.0261 - mse: 9.1518 - val_loss: 1.7185 - val_mae: 1.7185 - val_mse: 7.2242\n",
            "Epoch 240/300\n",
            "10/10 [==============================] - 0s 5ms/step - loss: 2.0140 - mae: 2.0140 - mse: 9.1384 - val_loss: 1.7053 - val_mae: 1.7053 - val_mse: 7.2036\n",
            "Epoch 241/300\n",
            "10/10 [==============================] - 0s 5ms/step - loss: 2.0032 - mae: 2.0032 - mse: 9.1305 - val_loss: 1.6931 - val_mae: 1.6931 - val_mse: 7.1867\n",
            "Epoch 242/300\n",
            "10/10 [==============================] - 0s 4ms/step - loss: 1.9923 - mae: 1.9923 - mse: 9.1200 - val_loss: 1.6847 - val_mae: 1.6847 - val_mse: 7.1764\n",
            "Epoch 243/300\n",
            "10/10 [==============================] - 0s 5ms/step - loss: 1.9842 - mae: 1.9842 - mse: 9.1127 - val_loss: 1.6768 - val_mae: 1.6768 - val_mse: 7.1693\n",
            "Epoch 244/300\n",
            "10/10 [==============================] - 0s 4ms/step - loss: 1.9771 - mae: 1.9771 - mse: 9.1089 - val_loss: 1.6698 - val_mae: 1.6698 - val_mse: 7.1648\n",
            "Epoch 245/300\n",
            "10/10 [==============================] - 0s 6ms/step - loss: 1.9708 - mae: 1.9708 - mse: 9.1139 - val_loss: 1.6652 - val_mae: 1.6652 - val_mse: 7.1629\n",
            "Epoch 246/300\n",
            "10/10 [==============================] - 0s 4ms/step - loss: 1.9662 - mae: 1.9662 - mse: 9.1128 - val_loss: 1.6611 - val_mae: 1.6611 - val_mse: 7.1628\n",
            "Epoch 247/300\n",
            "10/10 [==============================] - 0s 4ms/step - loss: 1.9626 - mae: 1.9626 - mse: 9.1220 - val_loss: 1.6584 - val_mae: 1.6584 - val_mse: 7.1642\n",
            "Epoch 248/300\n",
            "10/10 [==============================] - 0s 4ms/step - loss: 1.9592 - mae: 1.9592 - mse: 9.1251 - val_loss: 1.6563 - val_mae: 1.6563 - val_mse: 7.1666\n",
            "Epoch 249/300\n",
            "10/10 [==============================] - 0s 5ms/step - loss: 1.9562 - mae: 1.9562 - mse: 9.1274 - val_loss: 1.6543 - val_mae: 1.6543 - val_mse: 7.1694\n",
            "Epoch 250/300\n",
            "10/10 [==============================] - 0s 5ms/step - loss: 1.9535 - mae: 1.9535 - mse: 9.1324 - val_loss: 1.6523 - val_mae: 1.6523 - val_mse: 7.1733\n",
            "Epoch 251/300\n",
            "10/10 [==============================] - 0s 4ms/step - loss: 1.9510 - mae: 1.9510 - mse: 9.1407 - val_loss: 1.6501 - val_mae: 1.6501 - val_mse: 7.1788\n",
            "Epoch 252/300\n",
            "10/10 [==============================] - 0s 4ms/step - loss: 1.9479 - mae: 1.9479 - mse: 9.1483 - val_loss: 1.6481 - val_mae: 1.6481 - val_mse: 7.1847\n",
            "Epoch 253/300\n",
            "10/10 [==============================] - 0s 5ms/step - loss: 1.9454 - mae: 1.9454 - mse: 9.1579 - val_loss: 1.6472 - val_mae: 1.6472 - val_mse: 7.1917\n",
            "Epoch 254/300\n",
            "10/10 [==============================] - 0s 4ms/step - loss: 1.9439 - mae: 1.9439 - mse: 9.1643 - val_loss: 1.6486 - val_mae: 1.6486 - val_mse: 7.1963\n",
            "Epoch 255/300\n",
            "10/10 [==============================] - 0s 4ms/step - loss: 1.9438 - mae: 1.9438 - mse: 9.1691 - val_loss: 1.6497 - val_mae: 1.6497 - val_mse: 7.1998\n",
            "Epoch 256/300\n",
            "10/10 [==============================] - 0s 5ms/step - loss: 1.9435 - mae: 1.9435 - mse: 9.1730 - val_loss: 1.6504 - val_mae: 1.6504 - val_mse: 7.2019\n",
            "Epoch 257/300\n",
            "10/10 [==============================] - 0s 4ms/step - loss: 1.9432 - mae: 1.9432 - mse: 9.1749 - val_loss: 1.6509 - val_mae: 1.6509 - val_mse: 7.2035\n",
            "Epoch 258/300\n",
            "10/10 [==============================] - 0s 5ms/step - loss: 1.9432 - mae: 1.9432 - mse: 9.1793 - val_loss: 1.6516 - val_mae: 1.6516 - val_mse: 7.2060\n",
            "Epoch 259/300\n",
            "10/10 [==============================] - 0s 4ms/step - loss: 1.9429 - mae: 1.9429 - mse: 9.1804 - val_loss: 1.6522 - val_mae: 1.6522 - val_mse: 7.2079\n",
            "Epoch 260/300\n",
            "10/10 [==============================] - 0s 4ms/step - loss: 1.9426 - mae: 1.9426 - mse: 9.1814 - val_loss: 1.6525 - val_mae: 1.6525 - val_mse: 7.2088\n",
            "Epoch 261/300\n",
            "10/10 [==============================] - 0s 4ms/step - loss: 1.9425 - mae: 1.9425 - mse: 9.1828 - val_loss: 1.6528 - val_mae: 1.6528 - val_mse: 7.2097\n",
            "Epoch 262/300\n",
            "10/10 [==============================] - 0s 4ms/step - loss: 1.9423 - mae: 1.9423 - mse: 9.1861 - val_loss: 1.6536 - val_mae: 1.6536 - val_mse: 7.2127\n",
            "Epoch 263/300\n",
            "10/10 [==============================] - 0s 4ms/step - loss: 1.9423 - mae: 1.9423 - mse: 9.1913 - val_loss: 1.6545 - val_mae: 1.6545 - val_mse: 7.2164\n",
            "Epoch 264/300\n",
            "10/10 [==============================] - 0s 4ms/step - loss: 1.9420 - mae: 1.9420 - mse: 9.1944 - val_loss: 1.6551 - val_mae: 1.6551 - val_mse: 7.2189\n",
            "Epoch 265/300\n",
            "10/10 [==============================] - 0s 4ms/step - loss: 1.9416 - mae: 1.9416 - mse: 9.1944 - val_loss: 1.6553 - val_mae: 1.6553 - val_mse: 7.2195\n",
            "Epoch 266/300\n",
            "10/10 [==============================] - 0s 5ms/step - loss: 1.9416 - mae: 1.9416 - mse: 9.1975 - val_loss: 1.6561 - val_mae: 1.6561 - val_mse: 7.2230\n",
            "Epoch 267/300\n",
            "10/10 [==============================] - 0s 5ms/step - loss: 1.9414 - mae: 1.9414 - mse: 9.1987 - val_loss: 1.6561 - val_mae: 1.6561 - val_mse: 7.2223\n",
            "Epoch 268/300\n",
            "10/10 [==============================] - 0s 4ms/step - loss: 1.9411 - mae: 1.9411 - mse: 9.1989 - val_loss: 1.6566 - val_mae: 1.6566 - val_mse: 7.2247\n",
            "Epoch 269/300\n",
            "10/10 [==============================] - 0s 4ms/step - loss: 1.9410 - mae: 1.9410 - mse: 9.2007 - val_loss: 1.6569 - val_mae: 1.6569 - val_mse: 7.2255\n",
            "Epoch 270/300\n",
            "10/10 [==============================] - 0s 6ms/step - loss: 1.9408 - mae: 1.9408 - mse: 9.2038 - val_loss: 1.6576 - val_mae: 1.6576 - val_mse: 7.2289\n",
            "Epoch 271/300\n",
            "10/10 [==============================] - 0s 4ms/step - loss: 1.9407 - mae: 1.9407 - mse: 9.2095 - val_loss: 1.6587 - val_mae: 1.6587 - val_mse: 7.2339\n",
            "Epoch 272/300\n",
            "10/10 [==============================] - 0s 7ms/step - loss: 1.9403 - mae: 1.9403 - mse: 9.2122 - val_loss: 1.6593 - val_mae: 1.6593 - val_mse: 7.2367\n",
            "Epoch 273/300\n",
            "10/10 [==============================] - 0s 7ms/step - loss: 1.9403 - mae: 1.9403 - mse: 9.2173 - val_loss: 1.6602 - val_mae: 1.6602 - val_mse: 7.2414\n",
            "Epoch 274/300\n",
            "10/10 [==============================] - 0s 4ms/step - loss: 1.9399 - mae: 1.9399 - mse: 9.2198 - val_loss: 1.6603 - val_mae: 1.6603 - val_mse: 7.2420\n",
            "Epoch 275/300\n",
            "10/10 [==============================] - 0s 5ms/step - loss: 1.9398 - mae: 1.9398 - mse: 9.2227 - val_loss: 1.6612 - val_mae: 1.6612 - val_mse: 7.2456\n",
            "Epoch 276/300\n",
            "10/10 [==============================] - 0s 4ms/step - loss: 1.9397 - mae: 1.9397 - mse: 9.2256 - val_loss: 1.6620 - val_mae: 1.6620 - val_mse: 7.2489\n",
            "Epoch 277/300\n",
            "10/10 [==============================] - 0s 4ms/step - loss: 1.9395 - mae: 1.9395 - mse: 9.2292 - val_loss: 1.6625 - val_mae: 1.6625 - val_mse: 7.2506\n",
            "Epoch 278/300\n",
            "10/10 [==============================] - 0s 4ms/step - loss: 1.9393 - mae: 1.9393 - mse: 9.2307 - val_loss: 1.6627 - val_mae: 1.6627 - val_mse: 7.2513\n",
            "Epoch 279/300\n",
            "10/10 [==============================] - 0s 4ms/step - loss: 1.9393 - mae: 1.9393 - mse: 9.2321 - val_loss: 1.6634 - val_mae: 1.6634 - val_mse: 7.2541\n",
            "Epoch 280/300\n",
            "10/10 [==============================] - 0s 5ms/step - loss: 1.9392 - mae: 1.9392 - mse: 9.2340 - val_loss: 1.6638 - val_mae: 1.6638 - val_mse: 7.2553\n",
            "Epoch 281/300\n",
            "10/10 [==============================] - 0s 4ms/step - loss: 1.9392 - mae: 1.9392 - mse: 9.2393 - val_loss: 1.6648 - val_mae: 1.6648 - val_mse: 7.2594\n",
            "Epoch 282/300\n",
            "10/10 [==============================] - 0s 4ms/step - loss: 1.9389 - mae: 1.9389 - mse: 9.2394 - val_loss: 1.6648 - val_mae: 1.6648 - val_mse: 7.2590\n",
            "Epoch 283/300\n",
            "10/10 [==============================] - 0s 4ms/step - loss: 1.9390 - mae: 1.9390 - mse: 9.2419 - val_loss: 1.6658 - val_mae: 1.6658 - val_mse: 7.2633\n",
            "Epoch 284/300\n",
            "10/10 [==============================] - 0s 5ms/step - loss: 1.9387 - mae: 1.9387 - mse: 9.2451 - val_loss: 1.6663 - val_mae: 1.6663 - val_mse: 7.2656\n",
            "Epoch 285/300\n",
            "10/10 [==============================] - 0s 5ms/step - loss: 1.9387 - mae: 1.9387 - mse: 9.2485 - val_loss: 1.6669 - val_mae: 1.6669 - val_mse: 7.2676\n",
            "Epoch 286/300\n",
            "10/10 [==============================] - 0s 4ms/step - loss: 1.9385 - mae: 1.9385 - mse: 9.2473 - val_loss: 1.6666 - val_mae: 1.6666 - val_mse: 7.2659\n",
            "Epoch 287/300\n",
            "10/10 [==============================] - 0s 4ms/step - loss: 1.9384 - mae: 1.9384 - mse: 9.2492 - val_loss: 1.6675 - val_mae: 1.6675 - val_mse: 7.2699\n",
            "Epoch 288/300\n",
            "10/10 [==============================] - 0s 5ms/step - loss: 1.9382 - mae: 1.9382 - mse: 9.2517 - val_loss: 1.6679 - val_mae: 1.6679 - val_mse: 7.2717\n",
            "Epoch 289/300\n",
            "10/10 [==============================] - 0s 7ms/step - loss: 1.9381 - mae: 1.9381 - mse: 9.2546 - val_loss: 1.6686 - val_mae: 1.6686 - val_mse: 7.2748\n",
            "Epoch 290/300\n",
            "10/10 [==============================] - 0s 5ms/step - loss: 1.9380 - mae: 1.9380 - mse: 9.2589 - val_loss: 1.6695 - val_mae: 1.6695 - val_mse: 7.2789\n",
            "Epoch 291/300\n",
            "10/10 [==============================] - 0s 5ms/step - loss: 1.9379 - mae: 1.9379 - mse: 9.2637 - val_loss: 1.6701 - val_mae: 1.6701 - val_mse: 7.2817\n",
            "Epoch 292/300\n",
            "10/10 [==============================] - 0s 4ms/step - loss: 1.9378 - mae: 1.9378 - mse: 9.2635 - val_loss: 1.6695 - val_mae: 1.6695 - val_mse: 7.2783\n",
            "Epoch 293/300\n",
            "10/10 [==============================] - 0s 5ms/step - loss: 1.9380 - mae: 1.9380 - mse: 9.2581 - val_loss: 1.6689 - val_mae: 1.6689 - val_mse: 7.2747\n",
            "Epoch 294/300\n",
            "10/10 [==============================] - 0s 4ms/step - loss: 1.9378 - mae: 1.9378 - mse: 9.2565 - val_loss: 1.6692 - val_mae: 1.6692 - val_mse: 7.2756\n",
            "Epoch 295/300\n",
            "10/10 [==============================] - 0s 4ms/step - loss: 1.9376 - mae: 1.9376 - mse: 9.2587 - val_loss: 1.6698 - val_mae: 1.6698 - val_mse: 7.2785\n",
            "Epoch 296/300\n",
            "10/10 [==============================] - 0s 5ms/step - loss: 1.9376 - mae: 1.9376 - mse: 9.2623 - val_loss: 1.6703 - val_mae: 1.6703 - val_mse: 7.2802\n",
            "Epoch 297/300\n",
            "10/10 [==============================] - 0s 4ms/step - loss: 1.9376 - mae: 1.9376 - mse: 9.2599 - val_loss: 1.6694 - val_mae: 1.6694 - val_mse: 7.2755\n",
            "Epoch 298/300\n",
            "10/10 [==============================] - 0s 4ms/step - loss: 1.9375 - mae: 1.9375 - mse: 9.2575 - val_loss: 1.6693 - val_mae: 1.6693 - val_mse: 7.2750\n",
            "Epoch 299/300\n",
            "10/10 [==============================] - 0s 5ms/step - loss: 1.9376 - mae: 1.9376 - mse: 9.2559 - val_loss: 1.6691 - val_mae: 1.6691 - val_mse: 7.2734\n",
            "Epoch 300/300\n",
            "10/10 [==============================] - 0s 5ms/step - loss: 1.9374 - mae: 1.9374 - mse: 9.2591 - val_loss: 1.6701 - val_mae: 1.6701 - val_mse: 7.2778\n"
          ],
          "name": "stdout"
        }
      ]
    },
    {
      "cell_type": "code",
      "metadata": {
        "colab": {
          "base_uri": "https://localhost:8080/"
        },
        "id": "WZCGNIUMcGkk",
        "outputId": "2115828d-fbdc-4a7d-c558-3a06eb0bd3d5"
      },
      "source": [
        "print(history)"
      ],
      "execution_count": 25,
      "outputs": [
        {
          "output_type": "stream",
          "text": [
            "<tensorflow.python.keras.callbacks.History object at 0x7f1bd06fa710>\n"
          ],
          "name": "stdout"
        }
      ]
    },
    {
      "cell_type": "code",
      "metadata": {
        "colab": {
          "base_uri": "https://localhost:8080/"
        },
        "id": "KUXC05aMcJ5u",
        "outputId": "d6659bd0-999e-42a6-97d2-1f18358ee8ad"
      },
      "source": [
        "model.summary()"
      ],
      "execution_count": 26,
      "outputs": [
        {
          "output_type": "stream",
          "text": [
            "Model: \"sequential\"\n",
            "_________________________________________________________________\n",
            "Layer (type)                 Output Shape              Param #   \n",
            "=================================================================\n",
            "dense (Dense)                (None, 1)                 2         \n",
            "=================================================================\n",
            "Total params: 2\n",
            "Trainable params: 2\n",
            "Non-trainable params: 0\n",
            "_________________________________________________________________\n"
          ],
          "name": "stdout"
        }
      ]
    },
    {
      "cell_type": "code",
      "metadata": {
        "colab": {
          "base_uri": "https://localhost:8080/",
          "height": 1000
        },
        "id": "Svb8G0wncNPa",
        "outputId": "c7242787-a6ca-4162-b389-81782de50dae"
      },
      "source": [
        "# tempString = 'mse'\n",
        "def curvePlots(tempString):\n",
        "  plt.plot(history.history[tempString])\n",
        "  plt.plot(history.history[f'val_{tempString}'])\n",
        "  plt.xlabel('NumEpochs')\n",
        "  plt.ylabel(tempString)\n",
        "  plt.legend([tempString, f'val_{tempString}'])\n",
        "  plt.show()\n",
        "\n",
        "\n",
        "curvePlots('mse')\n",
        "curvePlots('mae')\n",
        "curvePlots('loss')"
      ],
      "execution_count": 27,
      "outputs": [
        {
          "output_type": "display_data",
          "data": {
            "image/png": "[encoded data removed]",
            "text/plain": [
              "<Figure size 576x396 with 1 Axes>"
            ]
          },
          "metadata": {
            "tags": []
          }
        },
        {
          "output_type": "display_data",
          "data": {
            "image/png": "[encoded data removed]",
            "text/plain": [
              "<Figure size 576x396 with 1 Axes>"
            ]
          },
          "metadata": {
            "tags": []
          }
        },
        {
          "output_type": "display_data",
          "data": {
            "image/png": "[encoded data removed]",
            "text/plain": [
              "<Figure size 576x396 with 1 Axes>"
            ]
          },
          "metadata": {
            "tags": []
          }
        }
      ]
    },
    {
      "cell_type": "code",
      "metadata": {
        "colab": {
          "base_uri": "https://localhost:8080/"
        },
        "id": "sNOJ7YcacUHm",
        "outputId": "d6cce54e-35d8-43f3-e7ac-c236d823a579"
      },
      "source": [
        "model.predict([1])"
      ],
      "execution_count": 28,
      "outputs": [
        {
          "output_type": "execute_result",
          "data": {
            "text/plain": [
              "array([[2.9763815]], dtype=float32)"
            ]
          },
          "metadata": {
            "tags": []
          },
          "execution_count": 28
        }
      ]
    },
    {
      "cell_type": "code",
      "metadata": {
        "colab": {
          "base_uri": "https://localhost:8080/"
        },
        "id": "9x3G7V3KcZQx",
        "outputId": "b4b0a265-26f9-4c51-c44c-d344eb83ec22"
      },
      "source": [
        "# testPreds = model.predict(testFeatures).flatten() #array of all prediction values\n",
        "\n",
        "#for single values\n",
        "\n",
        "print(f'Prediction for input value 1: {model.predict([1])}')\n",
        "\n",
        "\n",
        "# for a list of values\n",
        "tempListforPreds = [1,2,3,4,5]\n",
        "print(f'''\n",
        "\n",
        "input List = {tempListforPreds}\n",
        "\n",
        "\n",
        "List of Predictions:\n",
        "{model.predict(tempListforPreds)}\n",
        "\n",
        "List of Predictions (flattened out):\n",
        "{model.predict(tempListforPreds).flatten()}\n",
        "''')"
      ],
      "execution_count": 29,
      "outputs": [
        {
          "output_type": "stream",
          "text": [
            "Prediction for input value 1: [[2.9763815]]\n",
            "\n",
            "\n",
            "input List = [1, 2, 3, 4, 5]\n",
            "\n",
            "\n",
            "List of Predictions:\n",
            "[[2.9763815]\n",
            " [3.7969418]\n",
            " [4.617502 ]\n",
            " [5.4380627]\n",
            " [6.258623 ]]\n",
            "\n",
            "List of Predictions (flattened out):\n",
            "[2.9763815 3.7969418 4.617502  5.4380627 6.258623 ]\n",
            "\n"
          ],
          "name": "stdout"
        }
      ]
    },
    {
      "cell_type": "code",
      "metadata": {
        "colab": {
          "base_uri": "https://localhost:8080/"
        },
        "id": "JyITDsbfcd7k",
        "outputId": "9909d5e1-a16e-4912-a5da-47e4cb399824"
      },
      "source": [
        "print(testFeatures)"
      ],
      "execution_count": 30,
      "outputs": [
        {
          "output_type": "stream",
          "text": [
            "     G1\n",
            "9    14\n",
            "25    6\n",
            "28   11\n",
            "31   17\n",
            "32   17\n",
            "..   ..\n",
            "365  10\n",
            "367   7\n",
            "379  10\n",
            "381   7\n",
            "393  11\n",
            "\n",
            "[79 rows x 1 columns]\n"
          ],
          "name": "stdout"
        }
      ]
    },
    {
      "cell_type": "code",
      "metadata": {
        "id": "HFcgmvo3cirh"
      },
      "source": [
        "testPreds = model.predict(testFeatures).flatten() #array of all prediction values"
      ],
      "execution_count": 31,
      "outputs": []
    }
  ]
}